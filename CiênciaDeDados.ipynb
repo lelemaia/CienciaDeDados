{
  "cells": [
    {
      "cell_type": "markdown",
      "metadata": {
        "id": "view-in-github",
        "colab_type": "text"
      },
      "source": [
        "<a href=\"https://colab.research.google.com/github/lelemaia/CienciaDeDados/blob/main/Ci%C3%AAnciaDeDados.ipynb\" target=\"_parent\"><img src=\"https://colab.research.google.com/assets/colab-badge.svg\" alt=\"Open In Colab\"/></a>"
      ]
    },
    {
      "cell_type": "markdown",
      "id": "dc2dbf66",
      "metadata": {
        "id": "dc2dbf66"
      },
      "source": [
        "# **Introdução à Ciência de Dados**\n",
        "\n",
        "Nesta aula vamos começar a utilizar ferramentas de Data Science para carregar dados, gerar estatísticas e gráficos.\n",
        "\n",
        "Vamos ver algumas funcionalidades da biblioteca pandas (https://pandas.pydata.org/) e do seaborn (https://seaborn.pydata.org/)\n",
        "\n",
        "Neste momento aprenderemos apenas as técnicas de **Análise Exploratória**, que é o momento onde carregamos e entedemos os tipos de dados que temos. Os próximos passos em um pipeline de Data Science envolvem encontrar modelos de Aprendizado de Máquina (regressão, classificação, agrupamento, redução de dimensionalidade, etc) que sejam adequados aos nossos propósitos (resolvam os problemas que queremos). Vamos aprender a usar essas técnicas nas próximas aulas.\n",
        "\n",
        "--------------------------"
      ]
    },
    {
      "cell_type": "markdown",
      "id": "b8333f3a",
      "metadata": {
        "id": "b8333f3a"
      },
      "source": [
        "# Exemplo 1 - Entomologia: Gafanhatos vs Esperanças\n",
        "\n",
        "Foram medidos o comprimento das antenas e do abdômen de dois tipos de insetos: gafanhotos e esperanças. \n",
        "\n",
        "Carregue os dados do arquivo .csv fornecido e gere estatísticas e gráficos."
      ]
    },
    {
      "cell_type": "code",
      "execution_count": null,
      "id": "d0c90eb6",
      "metadata": {
        "id": "d0c90eb6"
      },
      "outputs": [],
      "source": [
        "import pandas as pd"
      ]
    },
    {
      "cell_type": "code",
      "execution_count": null,
      "id": "5d3c0970",
      "metadata": {
        "id": "5d3c0970"
      },
      "outputs": [],
      "source": [
        "dados = pd.read_csv('gaf_esp.csv', sep=';') # Estamos carregando o arquivo csv usando o ; como separador"
      ]
    },
    {
      "cell_type": "markdown",
      "id": "0c3da234",
      "metadata": {
        "id": "0c3da234"
      },
      "source": [
        "Os dados carregados no pandas estão em uma estrutura de dados chamada DataFrame. Este é o objeto que o pandas cria para representar os dados da tabela. Como todo objeto em POO (programação orientada à objeto), ele possui métodos que podem ser chamados. \n",
        "\n",
        "Para chamar um método de um objeto, basta escrever o nome da variável do objeto e colocar um . (ponto) na frente, evocando na sequência o nome do método seguido de  parenteses (arg), onde os argumentos arg podem ou não ser passados, dependendo do método.\n",
        "\n",
        "Vejamos dois exemplos de head():"
      ]
    },
    {
      "cell_type": "code",
      "execution_count": null,
      "id": "72fabb41",
      "metadata": {
        "colab": {
          "base_uri": "https://localhost:8080/",
          "height": 206
        },
        "id": "72fabb41",
        "outputId": "b11dd153-2f04-4f29-e104-9f98f5041013"
      },
      "outputs": [
        {
          "output_type": "execute_result",
          "data": {
            "text/plain": [
              "     Espécie  Comprimento do Abdômen  Comprimento das Antenas\n",
              "0  Gafanhoto                    0.50                      7.0\n",
              "1  Gafanhoto                    0.50                      6.0\n",
              "2  Gafanhoto                    0.60                      5.5\n",
              "3  Gafanhoto                    0.65                      4.5\n",
              "4  Gafanhoto                    0.54                      3.2"
            ],
            "text/html": [
              "\n",
              "  <div id=\"df-11fed925-4684-4a70-aacc-2c2521e7454a\">\n",
              "    <div class=\"colab-df-container\">\n",
              "      <div>\n",
              "<style scoped>\n",
              "    .dataframe tbody tr th:only-of-type {\n",
              "        vertical-align: middle;\n",
              "    }\n",
              "\n",
              "    .dataframe tbody tr th {\n",
              "        vertical-align: top;\n",
              "    }\n",
              "\n",
              "    .dataframe thead th {\n",
              "        text-align: right;\n",
              "    }\n",
              "</style>\n",
              "<table border=\"1\" class=\"dataframe\">\n",
              "  <thead>\n",
              "    <tr style=\"text-align: right;\">\n",
              "      <th></th>\n",
              "      <th>Espécie</th>\n",
              "      <th>Comprimento do Abdômen</th>\n",
              "      <th>Comprimento das Antenas</th>\n",
              "    </tr>\n",
              "  </thead>\n",
              "  <tbody>\n",
              "    <tr>\n",
              "      <th>0</th>\n",
              "      <td>Gafanhoto</td>\n",
              "      <td>0.50</td>\n",
              "      <td>7.0</td>\n",
              "    </tr>\n",
              "    <tr>\n",
              "      <th>1</th>\n",
              "      <td>Gafanhoto</td>\n",
              "      <td>0.50</td>\n",
              "      <td>6.0</td>\n",
              "    </tr>\n",
              "    <tr>\n",
              "      <th>2</th>\n",
              "      <td>Gafanhoto</td>\n",
              "      <td>0.60</td>\n",
              "      <td>5.5</td>\n",
              "    </tr>\n",
              "    <tr>\n",
              "      <th>3</th>\n",
              "      <td>Gafanhoto</td>\n",
              "      <td>0.65</td>\n",
              "      <td>4.5</td>\n",
              "    </tr>\n",
              "    <tr>\n",
              "      <th>4</th>\n",
              "      <td>Gafanhoto</td>\n",
              "      <td>0.54</td>\n",
              "      <td>3.2</td>\n",
              "    </tr>\n",
              "  </tbody>\n",
              "</table>\n",
              "</div>\n",
              "      <button class=\"colab-df-convert\" onclick=\"convertToInteractive('df-11fed925-4684-4a70-aacc-2c2521e7454a')\"\n",
              "              title=\"Convert this dataframe to an interactive table.\"\n",
              "              style=\"display:none;\">\n",
              "        \n",
              "  <svg xmlns=\"http://www.w3.org/2000/svg\" height=\"24px\"viewBox=\"0 0 24 24\"\n",
              "       width=\"24px\">\n",
              "    <path d=\"M0 0h24v24H0V0z\" fill=\"none\"/>\n",
              "    <path d=\"M18.56 5.44l.94 2.06.94-2.06 2.06-.94-2.06-.94-.94-2.06-.94 2.06-2.06.94zm-11 1L8.5 8.5l.94-2.06 2.06-.94-2.06-.94L8.5 2.5l-.94 2.06-2.06.94zm10 10l.94 2.06.94-2.06 2.06-.94-2.06-.94-.94-2.06-.94 2.06-2.06.94z\"/><path d=\"M17.41 7.96l-1.37-1.37c-.4-.4-.92-.59-1.43-.59-.52 0-1.04.2-1.43.59L10.3 9.45l-7.72 7.72c-.78.78-.78 2.05 0 2.83L4 21.41c.39.39.9.59 1.41.59.51 0 1.02-.2 1.41-.59l7.78-7.78 2.81-2.81c.8-.78.8-2.07 0-2.86zM5.41 20L4 18.59l7.72-7.72 1.47 1.35L5.41 20z\"/>\n",
              "  </svg>\n",
              "      </button>\n",
              "      \n",
              "  <style>\n",
              "    .colab-df-container {\n",
              "      display:flex;\n",
              "      flex-wrap:wrap;\n",
              "      gap: 12px;\n",
              "    }\n",
              "\n",
              "    .colab-df-convert {\n",
              "      background-color: #E8F0FE;\n",
              "      border: none;\n",
              "      border-radius: 50%;\n",
              "      cursor: pointer;\n",
              "      display: none;\n",
              "      fill: #1967D2;\n",
              "      height: 32px;\n",
              "      padding: 0 0 0 0;\n",
              "      width: 32px;\n",
              "    }\n",
              "\n",
              "    .colab-df-convert:hover {\n",
              "      background-color: #E2EBFA;\n",
              "      box-shadow: 0px 1px 2px rgba(60, 64, 67, 0.3), 0px 1px 3px 1px rgba(60, 64, 67, 0.15);\n",
              "      fill: #174EA6;\n",
              "    }\n",
              "\n",
              "    [theme=dark] .colab-df-convert {\n",
              "      background-color: #3B4455;\n",
              "      fill: #D2E3FC;\n",
              "    }\n",
              "\n",
              "    [theme=dark] .colab-df-convert:hover {\n",
              "      background-color: #434B5C;\n",
              "      box-shadow: 0px 1px 3px 1px rgba(0, 0, 0, 0.15);\n",
              "      filter: drop-shadow(0px 1px 2px rgba(0, 0, 0, 0.3));\n",
              "      fill: #FFFFFF;\n",
              "    }\n",
              "  </style>\n",
              "\n",
              "      <script>\n",
              "        const buttonEl =\n",
              "          document.querySelector('#df-11fed925-4684-4a70-aacc-2c2521e7454a button.colab-df-convert');\n",
              "        buttonEl.style.display =\n",
              "          google.colab.kernel.accessAllowed ? 'block' : 'none';\n",
              "\n",
              "        async function convertToInteractive(key) {\n",
              "          const element = document.querySelector('#df-11fed925-4684-4a70-aacc-2c2521e7454a');\n",
              "          const dataTable =\n",
              "            await google.colab.kernel.invokeFunction('convertToInteractive',\n",
              "                                                     [key], {});\n",
              "          if (!dataTable) return;\n",
              "\n",
              "          const docLinkHtml = 'Like what you see? Visit the ' +\n",
              "            '<a target=\"_blank\" href=https://colab.research.google.com/notebooks/data_table.ipynb>data table notebook</a>'\n",
              "            + ' to learn more about interactive tables.';\n",
              "          element.innerHTML = '';\n",
              "          dataTable['output_type'] = 'display_data';\n",
              "          await google.colab.output.renderOutput(dataTable, element);\n",
              "          const docLink = document.createElement('div');\n",
              "          docLink.innerHTML = docLinkHtml;\n",
              "          element.appendChild(docLink);\n",
              "        }\n",
              "      </script>\n",
              "    </div>\n",
              "  </div>\n",
              "  "
            ]
          },
          "metadata": {},
          "execution_count": 72
        }
      ],
      "source": [
        "dados.head() # o número passado para o método head é o número de linhas que queremos ver (por default 5)"
      ]
    },
    {
      "cell_type": "code",
      "execution_count": null,
      "id": "eedce2c8",
      "metadata": {
        "colab": {
          "base_uri": "https://localhost:8080/",
          "height": 363
        },
        "id": "eedce2c8",
        "outputId": "95429317-dc84-4e4e-e7f8-1c7a43c790ce"
      },
      "outputs": [
        {
          "output_type": "execute_result",
          "data": {
            "text/plain": [
              "     Espécie  Comprimento do Abdômen  Comprimento das Antenas\n",
              "0  Gafanhoto                    0.50                     7.00\n",
              "1  Gafanhoto                    0.50                     6.00\n",
              "2  Gafanhoto                    0.60                     5.50\n",
              "3  Gafanhoto                    0.65                     4.50\n",
              "4  Gafanhoto                    0.54                     3.20\n",
              "5  Gafanhoto                    3.00                     2.20\n",
              "6  Gafanhoto                    2.00                     1.75\n",
              "7  Gafanhoto                    1.00                     1.00\n",
              "8  Gafanhoto                    1.10                     0.89\n",
              "9  Gafanhoto                    1.20                     1.00"
            ],
            "text/html": [
              "\n",
              "  <div id=\"df-2b03ca88-c14e-4f97-bf66-6a85396b8bc4\">\n",
              "    <div class=\"colab-df-container\">\n",
              "      <div>\n",
              "<style scoped>\n",
              "    .dataframe tbody tr th:only-of-type {\n",
              "        vertical-align: middle;\n",
              "    }\n",
              "\n",
              "    .dataframe tbody tr th {\n",
              "        vertical-align: top;\n",
              "    }\n",
              "\n",
              "    .dataframe thead th {\n",
              "        text-align: right;\n",
              "    }\n",
              "</style>\n",
              "<table border=\"1\" class=\"dataframe\">\n",
              "  <thead>\n",
              "    <tr style=\"text-align: right;\">\n",
              "      <th></th>\n",
              "      <th>Espécie</th>\n",
              "      <th>Comprimento do Abdômen</th>\n",
              "      <th>Comprimento das Antenas</th>\n",
              "    </tr>\n",
              "  </thead>\n",
              "  <tbody>\n",
              "    <tr>\n",
              "      <th>0</th>\n",
              "      <td>Gafanhoto</td>\n",
              "      <td>0.50</td>\n",
              "      <td>7.00</td>\n",
              "    </tr>\n",
              "    <tr>\n",
              "      <th>1</th>\n",
              "      <td>Gafanhoto</td>\n",
              "      <td>0.50</td>\n",
              "      <td>6.00</td>\n",
              "    </tr>\n",
              "    <tr>\n",
              "      <th>2</th>\n",
              "      <td>Gafanhoto</td>\n",
              "      <td>0.60</td>\n",
              "      <td>5.50</td>\n",
              "    </tr>\n",
              "    <tr>\n",
              "      <th>3</th>\n",
              "      <td>Gafanhoto</td>\n",
              "      <td>0.65</td>\n",
              "      <td>4.50</td>\n",
              "    </tr>\n",
              "    <tr>\n",
              "      <th>4</th>\n",
              "      <td>Gafanhoto</td>\n",
              "      <td>0.54</td>\n",
              "      <td>3.20</td>\n",
              "    </tr>\n",
              "    <tr>\n",
              "      <th>5</th>\n",
              "      <td>Gafanhoto</td>\n",
              "      <td>3.00</td>\n",
              "      <td>2.20</td>\n",
              "    </tr>\n",
              "    <tr>\n",
              "      <th>6</th>\n",
              "      <td>Gafanhoto</td>\n",
              "      <td>2.00</td>\n",
              "      <td>1.75</td>\n",
              "    </tr>\n",
              "    <tr>\n",
              "      <th>7</th>\n",
              "      <td>Gafanhoto</td>\n",
              "      <td>1.00</td>\n",
              "      <td>1.00</td>\n",
              "    </tr>\n",
              "    <tr>\n",
              "      <th>8</th>\n",
              "      <td>Gafanhoto</td>\n",
              "      <td>1.10</td>\n",
              "      <td>0.89</td>\n",
              "    </tr>\n",
              "    <tr>\n",
              "      <th>9</th>\n",
              "      <td>Gafanhoto</td>\n",
              "      <td>1.20</td>\n",
              "      <td>1.00</td>\n",
              "    </tr>\n",
              "  </tbody>\n",
              "</table>\n",
              "</div>\n",
              "      <button class=\"colab-df-convert\" onclick=\"convertToInteractive('df-2b03ca88-c14e-4f97-bf66-6a85396b8bc4')\"\n",
              "              title=\"Convert this dataframe to an interactive table.\"\n",
              "              style=\"display:none;\">\n",
              "        \n",
              "  <svg xmlns=\"http://www.w3.org/2000/svg\" height=\"24px\"viewBox=\"0 0 24 24\"\n",
              "       width=\"24px\">\n",
              "    <path d=\"M0 0h24v24H0V0z\" fill=\"none\"/>\n",
              "    <path d=\"M18.56 5.44l.94 2.06.94-2.06 2.06-.94-2.06-.94-.94-2.06-.94 2.06-2.06.94zm-11 1L8.5 8.5l.94-2.06 2.06-.94-2.06-.94L8.5 2.5l-.94 2.06-2.06.94zm10 10l.94 2.06.94-2.06 2.06-.94-2.06-.94-.94-2.06-.94 2.06-2.06.94z\"/><path d=\"M17.41 7.96l-1.37-1.37c-.4-.4-.92-.59-1.43-.59-.52 0-1.04.2-1.43.59L10.3 9.45l-7.72 7.72c-.78.78-.78 2.05 0 2.83L4 21.41c.39.39.9.59 1.41.59.51 0 1.02-.2 1.41-.59l7.78-7.78 2.81-2.81c.8-.78.8-2.07 0-2.86zM5.41 20L4 18.59l7.72-7.72 1.47 1.35L5.41 20z\"/>\n",
              "  </svg>\n",
              "      </button>\n",
              "      \n",
              "  <style>\n",
              "    .colab-df-container {\n",
              "      display:flex;\n",
              "      flex-wrap:wrap;\n",
              "      gap: 12px;\n",
              "    }\n",
              "\n",
              "    .colab-df-convert {\n",
              "      background-color: #E8F0FE;\n",
              "      border: none;\n",
              "      border-radius: 50%;\n",
              "      cursor: pointer;\n",
              "      display: none;\n",
              "      fill: #1967D2;\n",
              "      height: 32px;\n",
              "      padding: 0 0 0 0;\n",
              "      width: 32px;\n",
              "    }\n",
              "\n",
              "    .colab-df-convert:hover {\n",
              "      background-color: #E2EBFA;\n",
              "      box-shadow: 0px 1px 2px rgba(60, 64, 67, 0.3), 0px 1px 3px 1px rgba(60, 64, 67, 0.15);\n",
              "      fill: #174EA6;\n",
              "    }\n",
              "\n",
              "    [theme=dark] .colab-df-convert {\n",
              "      background-color: #3B4455;\n",
              "      fill: #D2E3FC;\n",
              "    }\n",
              "\n",
              "    [theme=dark] .colab-df-convert:hover {\n",
              "      background-color: #434B5C;\n",
              "      box-shadow: 0px 1px 3px 1px rgba(0, 0, 0, 0.15);\n",
              "      filter: drop-shadow(0px 1px 2px rgba(0, 0, 0, 0.3));\n",
              "      fill: #FFFFFF;\n",
              "    }\n",
              "  </style>\n",
              "\n",
              "      <script>\n",
              "        const buttonEl =\n",
              "          document.querySelector('#df-2b03ca88-c14e-4f97-bf66-6a85396b8bc4 button.colab-df-convert');\n",
              "        buttonEl.style.display =\n",
              "          google.colab.kernel.accessAllowed ? 'block' : 'none';\n",
              "\n",
              "        async function convertToInteractive(key) {\n",
              "          const element = document.querySelector('#df-2b03ca88-c14e-4f97-bf66-6a85396b8bc4');\n",
              "          const dataTable =\n",
              "            await google.colab.kernel.invokeFunction('convertToInteractive',\n",
              "                                                     [key], {});\n",
              "          if (!dataTable) return;\n",
              "\n",
              "          const docLinkHtml = 'Like what you see? Visit the ' +\n",
              "            '<a target=\"_blank\" href=https://colab.research.google.com/notebooks/data_table.ipynb>data table notebook</a>'\n",
              "            + ' to learn more about interactive tables.';\n",
              "          element.innerHTML = '';\n",
              "          dataTable['output_type'] = 'display_data';\n",
              "          await google.colab.output.renderOutput(dataTable, element);\n",
              "          const docLink = document.createElement('div');\n",
              "          docLink.innerHTML = docLinkHtml;\n",
              "          element.appendChild(docLink);\n",
              "        }\n",
              "      </script>\n",
              "    </div>\n",
              "  </div>\n",
              "  "
            ]
          },
          "metadata": {},
          "execution_count": 73
        }
      ],
      "source": [
        "dados.head(10) # passando 10 como argumento do método head"
      ]
    },
    {
      "cell_type": "markdown",
      "id": "9cc34282",
      "metadata": {
        "id": "9cc34282"
      },
      "source": [
        "No pandas podemos acessar as colunas através do nome, de forma parecida com um dicionário:"
      ]
    },
    {
      "cell_type": "code",
      "execution_count": null,
      "id": "caa3da0d",
      "metadata": {
        "colab": {
          "base_uri": "https://localhost:8080/"
        },
        "id": "caa3da0d",
        "outputId": "ff3a14c5-6a60-4164-87f3-7e194ffcd94a"
      },
      "outputs": [
        {
          "output_type": "execute_result",
          "data": {
            "text/plain": [
              "0     Gafanhoto\n",
              "1     Gafanhoto\n",
              "2     Gafanhoto\n",
              "3     Gafanhoto\n",
              "4     Gafanhoto\n",
              "        ...    \n",
              "95    Esperança\n",
              "96    Esperança\n",
              "97    Esperança\n",
              "98    Esperança\n",
              "99    Esperança\n",
              "Name: Espécie, Length: 100, dtype: object"
            ]
          },
          "metadata": {},
          "execution_count": 74
        }
      ],
      "source": [
        "dados['Espécie']"
      ]
    },
    {
      "cell_type": "markdown",
      "id": "c9447489",
      "metadata": {
        "id": "c9447489"
      },
      "source": [
        "Vejamos quais são os tipos da estruturas de dados de uma **Tabela Pandas** e de uma **Coluna Pandas**:"
      ]
    },
    {
      "cell_type": "code",
      "execution_count": null,
      "id": "e48d6839",
      "metadata": {
        "colab": {
          "base_uri": "https://localhost:8080/"
        },
        "id": "e48d6839",
        "outputId": "26bf9319-782a-4757-d3fb-6b1b93976cfe"
      },
      "outputs": [
        {
          "output_type": "execute_result",
          "data": {
            "text/plain": [
              "pandas.core.frame.DataFrame"
            ]
          },
          "metadata": {},
          "execution_count": 75
        }
      ],
      "source": [
        "type(dados) # As tabelas dos pandas são objetos chamados de dataframes"
      ]
    },
    {
      "cell_type": "code",
      "execution_count": null,
      "id": "981807cf",
      "metadata": {
        "colab": {
          "base_uri": "https://localhost:8080/"
        },
        "id": "981807cf",
        "outputId": "12f69f3a-6723-4ac0-9b58-0b04f303f5b8"
      },
      "outputs": [
        {
          "output_type": "execute_result",
          "data": {
            "text/plain": [
              "pandas.core.series.Series"
            ]
          },
          "metadata": {},
          "execution_count": 76
        }
      ],
      "source": [
        "type(dados['Espécie']) # Já as colunas são objetos chamados de séries"
      ]
    },
    {
      "cell_type": "markdown",
      "id": "a8c79b8c",
      "metadata": {
        "id": "a8c79b8c"
      },
      "source": [
        "Para transformar uma série em uma lista nativa do Python, podemos fazer:"
      ]
    },
    {
      "cell_type": "code",
      "execution_count": null,
      "id": "19426940",
      "metadata": {
        "colab": {
          "base_uri": "https://localhost:8080/"
        },
        "id": "19426940",
        "outputId": "20ba28a3-4c28-42f9-a15e-8b23559e308c"
      },
      "outputs": [
        {
          "output_type": "execute_result",
          "data": {
            "text/plain": [
              "['Gafanhoto',\n",
              " 'Gafanhoto',\n",
              " 'Gafanhoto',\n",
              " 'Gafanhoto',\n",
              " 'Gafanhoto',\n",
              " 'Gafanhoto',\n",
              " 'Gafanhoto',\n",
              " 'Gafanhoto',\n",
              " 'Gafanhoto',\n",
              " 'Gafanhoto',\n",
              " 'Gafanhoto',\n",
              " 'Gafanhoto',\n",
              " 'Gafanhoto',\n",
              " 'Gafanhoto',\n",
              " 'Gafanhoto',\n",
              " 'Gafanhoto',\n",
              " 'Gafanhoto',\n",
              " 'Gafanhoto',\n",
              " 'Gafanhoto',\n",
              " 'Gafanhoto',\n",
              " 'Gafanhoto',\n",
              " 'Gafanhoto',\n",
              " 'Gafanhoto',\n",
              " 'Gafanhoto',\n",
              " 'Gafanhoto',\n",
              " 'Gafanhoto',\n",
              " 'Gafanhoto',\n",
              " 'Gafanhoto',\n",
              " 'Gafanhoto',\n",
              " 'Gafanhoto',\n",
              " 'Gafanhoto',\n",
              " 'Gafanhoto',\n",
              " 'Gafanhoto',\n",
              " 'Gafanhoto',\n",
              " 'Gafanhoto',\n",
              " 'Gafanhoto',\n",
              " 'Gafanhoto',\n",
              " 'Gafanhoto',\n",
              " 'Gafanhoto',\n",
              " 'Gafanhoto',\n",
              " 'Gafanhoto',\n",
              " 'Gafanhoto',\n",
              " 'Gafanhoto',\n",
              " 'Gafanhoto',\n",
              " 'Gafanhoto',\n",
              " 'Gafanhoto',\n",
              " 'Gafanhoto',\n",
              " 'Gafanhoto',\n",
              " 'Gafanhoto',\n",
              " 'Gafanhoto',\n",
              " 'Esperança',\n",
              " 'Esperança',\n",
              " 'Esperança',\n",
              " 'Esperança',\n",
              " 'Esperança',\n",
              " 'Esperança',\n",
              " 'Esperança',\n",
              " 'Esperança',\n",
              " 'Esperança',\n",
              " 'Esperança',\n",
              " 'Esperança',\n",
              " 'Esperança',\n",
              " 'Esperança',\n",
              " 'Esperança',\n",
              " 'Esperança',\n",
              " 'Esperança',\n",
              " 'Esperança',\n",
              " 'Esperança',\n",
              " 'Esperança',\n",
              " 'Esperança',\n",
              " 'Esperança',\n",
              " 'Esperança',\n",
              " 'Esperança',\n",
              " 'Esperança',\n",
              " 'Esperança',\n",
              " 'Esperança',\n",
              " 'Esperança',\n",
              " 'Esperança',\n",
              " 'Esperança',\n",
              " 'Esperança',\n",
              " 'Esperança',\n",
              " 'Esperança',\n",
              " 'Esperança',\n",
              " 'Esperança',\n",
              " 'Esperança',\n",
              " 'Esperança',\n",
              " 'Esperança',\n",
              " 'Esperança',\n",
              " 'Esperança',\n",
              " 'Esperança',\n",
              " 'Esperança',\n",
              " 'Esperança',\n",
              " 'Esperança',\n",
              " 'Esperança',\n",
              " 'Esperança',\n",
              " 'Esperança',\n",
              " 'Esperança',\n",
              " 'Esperança',\n",
              " 'Esperança',\n",
              " 'Esperança']"
            ]
          },
          "metadata": {},
          "execution_count": 77
        }
      ],
      "source": [
        "list(dados['Espécie'])"
      ]
    },
    {
      "cell_type": "markdown",
      "id": "4a8abac8",
      "metadata": {
        "id": "4a8abac8"
      },
      "source": [
        "Agora vamos usar isso para contar quantos exemplos (entradas) temos de cada espécie:"
      ]
    },
    {
      "cell_type": "code",
      "execution_count": null,
      "id": "b523724e",
      "metadata": {
        "colab": {
          "base_uri": "https://localhost:8080/"
        },
        "id": "b523724e",
        "outputId": "49ce6c3f-05fa-4c7d-b90f-456a52b0f56b"
      },
      "outputs": [
        {
          "output_type": "execute_result",
          "data": {
            "text/plain": [
              "50"
            ]
          },
          "metadata": {},
          "execution_count": 78
        }
      ],
      "source": [
        "list(dados['Espécie']).count('Gafanhoto')"
      ]
    },
    {
      "cell_type": "code",
      "execution_count": null,
      "id": "9efd90bc",
      "metadata": {
        "colab": {
          "base_uri": "https://localhost:8080/"
        },
        "id": "9efd90bc",
        "outputId": "def7a181-6679-4839-e02d-eab290aed082"
      },
      "outputs": [
        {
          "output_type": "execute_result",
          "data": {
            "text/plain": [
              "50"
            ]
          },
          "metadata": {},
          "execution_count": 79
        }
      ],
      "source": [
        "list(dados['Espécie']).count('Esperança')"
      ]
    },
    {
      "cell_type": "markdown",
      "id": "c4da5cc7",
      "metadata": {
        "id": "c4da5cc7"
      },
      "source": [
        "# Estatísticas\n",
        "\n",
        "Vamos calcular algumas estatísticas"
      ]
    },
    {
      "cell_type": "code",
      "execution_count": null,
      "id": "7c1dc1a9",
      "metadata": {
        "id": "7c1dc1a9"
      },
      "outputs": [],
      "source": [
        "import statistics"
      ]
    },
    {
      "cell_type": "code",
      "execution_count": null,
      "id": "f1078cf0",
      "metadata": {
        "id": "f1078cf0"
      },
      "outputs": [],
      "source": [
        "media_cab = statistics.mean(dados['Comprimento do Abdômen']) # Média do Comp. Abdômen\n",
        "media_can = statistics.mean(dados['Comprimento das Antenas']) # Média do Comp. Antena\n",
        "std_cab = statistics.stdev(dados['Comprimento do Abdômen']) # Desvio Padrão Amostral do Comp. Abdômen\n",
        "std_can = statistics.stdev(dados['Comprimento das Antenas']) # Desvio Padrão Amostra do Com. Antena"
      ]
    },
    {
      "cell_type": "code",
      "execution_count": null,
      "id": "57b269af",
      "metadata": {
        "colab": {
          "base_uri": "https://localhost:8080/"
        },
        "id": "57b269af",
        "outputId": "d47baa4c-b88d-4f7d-ff28-cd7107bb4205"
      },
      "outputs": [
        {
          "output_type": "stream",
          "name": "stdout",
          "text": [
            "Média Comp. Abdômen:  4.9362\n",
            "Média Comp. Antena:  5.3824\n",
            "Desvio Padrão Amostral do Comp. Abdômen:  3.3438062084391134\n",
            "Desvio Padrão Amostral do Comp. Antena:  2.2960005279272964\n"
          ]
        }
      ],
      "source": [
        "print('Média Comp. Abdômen: ', media_cab)\n",
        "print('Média Comp. Antena: ', media_can)\n",
        "print('Desvio Padrão Amostral do Comp. Abdômen: ', std_cab)\n",
        "print('Desvio Padrão Amostral do Comp. Antena: ', std_can)"
      ]
    },
    {
      "cell_type": "markdown",
      "id": "3e2314cb",
      "metadata": {
        "id": "3e2314cb"
      },
      "source": [
        "Esses valores foram calculados para todos os dados.\n",
        "\n",
        "Vamos recalcular para cada uma das espécies.\n",
        "\n",
        "Para isso, vamos separar os dados em dois dataframes:"
      ]
    },
    {
      "cell_type": "code",
      "execution_count": null,
      "id": "3403c3bb",
      "metadata": {
        "id": "3403c3bb"
      },
      "outputs": [],
      "source": [
        "dados_gaf = dados[dados['Espécie']=='Gafanhoto'] # Aqui estamos criando um dataframe só com gafanhotos"
      ]
    },
    {
      "cell_type": "code",
      "execution_count": null,
      "id": "bea00571",
      "metadata": {
        "colab": {
          "base_uri": "https://localhost:8080/",
          "height": 206
        },
        "id": "bea00571",
        "outputId": "ec1dbf60-3a44-4fc6-d358-16e92f778498"
      },
      "outputs": [
        {
          "output_type": "execute_result",
          "data": {
            "text/plain": [
              "     Espécie  Comprimento do Abdômen  Comprimento das Antenas\n",
              "0  Gafanhoto                    0.50                      7.0\n",
              "1  Gafanhoto                    0.50                      6.0\n",
              "2  Gafanhoto                    0.60                      5.5\n",
              "3  Gafanhoto                    0.65                      4.5\n",
              "4  Gafanhoto                    0.54                      3.2"
            ],
            "text/html": [
              "\n",
              "  <div id=\"df-408a1067-88a5-407e-8dbd-572797d03f10\">\n",
              "    <div class=\"colab-df-container\">\n",
              "      <div>\n",
              "<style scoped>\n",
              "    .dataframe tbody tr th:only-of-type {\n",
              "        vertical-align: middle;\n",
              "    }\n",
              "\n",
              "    .dataframe tbody tr th {\n",
              "        vertical-align: top;\n",
              "    }\n",
              "\n",
              "    .dataframe thead th {\n",
              "        text-align: right;\n",
              "    }\n",
              "</style>\n",
              "<table border=\"1\" class=\"dataframe\">\n",
              "  <thead>\n",
              "    <tr style=\"text-align: right;\">\n",
              "      <th></th>\n",
              "      <th>Espécie</th>\n",
              "      <th>Comprimento do Abdômen</th>\n",
              "      <th>Comprimento das Antenas</th>\n",
              "    </tr>\n",
              "  </thead>\n",
              "  <tbody>\n",
              "    <tr>\n",
              "      <th>0</th>\n",
              "      <td>Gafanhoto</td>\n",
              "      <td>0.50</td>\n",
              "      <td>7.0</td>\n",
              "    </tr>\n",
              "    <tr>\n",
              "      <th>1</th>\n",
              "      <td>Gafanhoto</td>\n",
              "      <td>0.50</td>\n",
              "      <td>6.0</td>\n",
              "    </tr>\n",
              "    <tr>\n",
              "      <th>2</th>\n",
              "      <td>Gafanhoto</td>\n",
              "      <td>0.60</td>\n",
              "      <td>5.5</td>\n",
              "    </tr>\n",
              "    <tr>\n",
              "      <th>3</th>\n",
              "      <td>Gafanhoto</td>\n",
              "      <td>0.65</td>\n",
              "      <td>4.5</td>\n",
              "    </tr>\n",
              "    <tr>\n",
              "      <th>4</th>\n",
              "      <td>Gafanhoto</td>\n",
              "      <td>0.54</td>\n",
              "      <td>3.2</td>\n",
              "    </tr>\n",
              "  </tbody>\n",
              "</table>\n",
              "</div>\n",
              "      <button class=\"colab-df-convert\" onclick=\"convertToInteractive('df-408a1067-88a5-407e-8dbd-572797d03f10')\"\n",
              "              title=\"Convert this dataframe to an interactive table.\"\n",
              "              style=\"display:none;\">\n",
              "        \n",
              "  <svg xmlns=\"http://www.w3.org/2000/svg\" height=\"24px\"viewBox=\"0 0 24 24\"\n",
              "       width=\"24px\">\n",
              "    <path d=\"M0 0h24v24H0V0z\" fill=\"none\"/>\n",
              "    <path d=\"M18.56 5.44l.94 2.06.94-2.06 2.06-.94-2.06-.94-.94-2.06-.94 2.06-2.06.94zm-11 1L8.5 8.5l.94-2.06 2.06-.94-2.06-.94L8.5 2.5l-.94 2.06-2.06.94zm10 10l.94 2.06.94-2.06 2.06-.94-2.06-.94-.94-2.06-.94 2.06-2.06.94z\"/><path d=\"M17.41 7.96l-1.37-1.37c-.4-.4-.92-.59-1.43-.59-.52 0-1.04.2-1.43.59L10.3 9.45l-7.72 7.72c-.78.78-.78 2.05 0 2.83L4 21.41c.39.39.9.59 1.41.59.51 0 1.02-.2 1.41-.59l7.78-7.78 2.81-2.81c.8-.78.8-2.07 0-2.86zM5.41 20L4 18.59l7.72-7.72 1.47 1.35L5.41 20z\"/>\n",
              "  </svg>\n",
              "      </button>\n",
              "      \n",
              "  <style>\n",
              "    .colab-df-container {\n",
              "      display:flex;\n",
              "      flex-wrap:wrap;\n",
              "      gap: 12px;\n",
              "    }\n",
              "\n",
              "    .colab-df-convert {\n",
              "      background-color: #E8F0FE;\n",
              "      border: none;\n",
              "      border-radius: 50%;\n",
              "      cursor: pointer;\n",
              "      display: none;\n",
              "      fill: #1967D2;\n",
              "      height: 32px;\n",
              "      padding: 0 0 0 0;\n",
              "      width: 32px;\n",
              "    }\n",
              "\n",
              "    .colab-df-convert:hover {\n",
              "      background-color: #E2EBFA;\n",
              "      box-shadow: 0px 1px 2px rgba(60, 64, 67, 0.3), 0px 1px 3px 1px rgba(60, 64, 67, 0.15);\n",
              "      fill: #174EA6;\n",
              "    }\n",
              "\n",
              "    [theme=dark] .colab-df-convert {\n",
              "      background-color: #3B4455;\n",
              "      fill: #D2E3FC;\n",
              "    }\n",
              "\n",
              "    [theme=dark] .colab-df-convert:hover {\n",
              "      background-color: #434B5C;\n",
              "      box-shadow: 0px 1px 3px 1px rgba(0, 0, 0, 0.15);\n",
              "      filter: drop-shadow(0px 1px 2px rgba(0, 0, 0, 0.3));\n",
              "      fill: #FFFFFF;\n",
              "    }\n",
              "  </style>\n",
              "\n",
              "      <script>\n",
              "        const buttonEl =\n",
              "          document.querySelector('#df-408a1067-88a5-407e-8dbd-572797d03f10 button.colab-df-convert');\n",
              "        buttonEl.style.display =\n",
              "          google.colab.kernel.accessAllowed ? 'block' : 'none';\n",
              "\n",
              "        async function convertToInteractive(key) {\n",
              "          const element = document.querySelector('#df-408a1067-88a5-407e-8dbd-572797d03f10');\n",
              "          const dataTable =\n",
              "            await google.colab.kernel.invokeFunction('convertToInteractive',\n",
              "                                                     [key], {});\n",
              "          if (!dataTable) return;\n",
              "\n",
              "          const docLinkHtml = 'Like what you see? Visit the ' +\n",
              "            '<a target=\"_blank\" href=https://colab.research.google.com/notebooks/data_table.ipynb>data table notebook</a>'\n",
              "            + ' to learn more about interactive tables.';\n",
              "          element.innerHTML = '';\n",
              "          dataTable['output_type'] = 'display_data';\n",
              "          await google.colab.output.renderOutput(dataTable, element);\n",
              "          const docLink = document.createElement('div');\n",
              "          docLink.innerHTML = docLinkHtml;\n",
              "          element.appendChild(docLink);\n",
              "        }\n",
              "      </script>\n",
              "    </div>\n",
              "  </div>\n",
              "  "
            ]
          },
          "metadata": {},
          "execution_count": 84
        }
      ],
      "source": [
        "dados_gaf.head()"
      ]
    },
    {
      "cell_type": "code",
      "execution_count": null,
      "id": "cca1f832",
      "metadata": {
        "id": "cca1f832"
      },
      "outputs": [],
      "source": [
        "dados_esp = dados[dados['Espécie']=='Esperança'] # E aqui um dataframe só com esperanças"
      ]
    },
    {
      "cell_type": "code",
      "execution_count": null,
      "id": "62c70373",
      "metadata": {
        "colab": {
          "base_uri": "https://localhost:8080/",
          "height": 206
        },
        "id": "62c70373",
        "outputId": "6501bf2e-3cb7-4d13-c689-e0da13331524"
      },
      "outputs": [
        {
          "output_type": "execute_result",
          "data": {
            "text/plain": [
              "      Espécie  Comprimento do Abdômen  Comprimento das Antenas\n",
              "50  Esperança                     8.3                      6.6\n",
              "51  Esperança                     8.1                      4.7\n",
              "52  Esperança                     8.0                      9.1\n",
              "53  Esperança                     5.4                      8.5\n",
              "54  Esperança                    10.0                      4.5"
            ],
            "text/html": [
              "\n",
              "  <div id=\"df-b812fbee-07dd-40a0-bdc5-d6c23c9e0123\">\n",
              "    <div class=\"colab-df-container\">\n",
              "      <div>\n",
              "<style scoped>\n",
              "    .dataframe tbody tr th:only-of-type {\n",
              "        vertical-align: middle;\n",
              "    }\n",
              "\n",
              "    .dataframe tbody tr th {\n",
              "        vertical-align: top;\n",
              "    }\n",
              "\n",
              "    .dataframe thead th {\n",
              "        text-align: right;\n",
              "    }\n",
              "</style>\n",
              "<table border=\"1\" class=\"dataframe\">\n",
              "  <thead>\n",
              "    <tr style=\"text-align: right;\">\n",
              "      <th></th>\n",
              "      <th>Espécie</th>\n",
              "      <th>Comprimento do Abdômen</th>\n",
              "      <th>Comprimento das Antenas</th>\n",
              "    </tr>\n",
              "  </thead>\n",
              "  <tbody>\n",
              "    <tr>\n",
              "      <th>50</th>\n",
              "      <td>Esperança</td>\n",
              "      <td>8.3</td>\n",
              "      <td>6.6</td>\n",
              "    </tr>\n",
              "    <tr>\n",
              "      <th>51</th>\n",
              "      <td>Esperança</td>\n",
              "      <td>8.1</td>\n",
              "      <td>4.7</td>\n",
              "    </tr>\n",
              "    <tr>\n",
              "      <th>52</th>\n",
              "      <td>Esperança</td>\n",
              "      <td>8.0</td>\n",
              "      <td>9.1</td>\n",
              "    </tr>\n",
              "    <tr>\n",
              "      <th>53</th>\n",
              "      <td>Esperança</td>\n",
              "      <td>5.4</td>\n",
              "      <td>8.5</td>\n",
              "    </tr>\n",
              "    <tr>\n",
              "      <th>54</th>\n",
              "      <td>Esperança</td>\n",
              "      <td>10.0</td>\n",
              "      <td>4.5</td>\n",
              "    </tr>\n",
              "  </tbody>\n",
              "</table>\n",
              "</div>\n",
              "      <button class=\"colab-df-convert\" onclick=\"convertToInteractive('df-b812fbee-07dd-40a0-bdc5-d6c23c9e0123')\"\n",
              "              title=\"Convert this dataframe to an interactive table.\"\n",
              "              style=\"display:none;\">\n",
              "        \n",
              "  <svg xmlns=\"http://www.w3.org/2000/svg\" height=\"24px\"viewBox=\"0 0 24 24\"\n",
              "       width=\"24px\">\n",
              "    <path d=\"M0 0h24v24H0V0z\" fill=\"none\"/>\n",
              "    <path d=\"M18.56 5.44l.94 2.06.94-2.06 2.06-.94-2.06-.94-.94-2.06-.94 2.06-2.06.94zm-11 1L8.5 8.5l.94-2.06 2.06-.94-2.06-.94L8.5 2.5l-.94 2.06-2.06.94zm10 10l.94 2.06.94-2.06 2.06-.94-2.06-.94-.94-2.06-.94 2.06-2.06.94z\"/><path d=\"M17.41 7.96l-1.37-1.37c-.4-.4-.92-.59-1.43-.59-.52 0-1.04.2-1.43.59L10.3 9.45l-7.72 7.72c-.78.78-.78 2.05 0 2.83L4 21.41c.39.39.9.59 1.41.59.51 0 1.02-.2 1.41-.59l7.78-7.78 2.81-2.81c.8-.78.8-2.07 0-2.86zM5.41 20L4 18.59l7.72-7.72 1.47 1.35L5.41 20z\"/>\n",
              "  </svg>\n",
              "      </button>\n",
              "      \n",
              "  <style>\n",
              "    .colab-df-container {\n",
              "      display:flex;\n",
              "      flex-wrap:wrap;\n",
              "      gap: 12px;\n",
              "    }\n",
              "\n",
              "    .colab-df-convert {\n",
              "      background-color: #E8F0FE;\n",
              "      border: none;\n",
              "      border-radius: 50%;\n",
              "      cursor: pointer;\n",
              "      display: none;\n",
              "      fill: #1967D2;\n",
              "      height: 32px;\n",
              "      padding: 0 0 0 0;\n",
              "      width: 32px;\n",
              "    }\n",
              "\n",
              "    .colab-df-convert:hover {\n",
              "      background-color: #E2EBFA;\n",
              "      box-shadow: 0px 1px 2px rgba(60, 64, 67, 0.3), 0px 1px 3px 1px rgba(60, 64, 67, 0.15);\n",
              "      fill: #174EA6;\n",
              "    }\n",
              "\n",
              "    [theme=dark] .colab-df-convert {\n",
              "      background-color: #3B4455;\n",
              "      fill: #D2E3FC;\n",
              "    }\n",
              "\n",
              "    [theme=dark] .colab-df-convert:hover {\n",
              "      background-color: #434B5C;\n",
              "      box-shadow: 0px 1px 3px 1px rgba(0, 0, 0, 0.15);\n",
              "      filter: drop-shadow(0px 1px 2px rgba(0, 0, 0, 0.3));\n",
              "      fill: #FFFFFF;\n",
              "    }\n",
              "  </style>\n",
              "\n",
              "      <script>\n",
              "        const buttonEl =\n",
              "          document.querySelector('#df-b812fbee-07dd-40a0-bdc5-d6c23c9e0123 button.colab-df-convert');\n",
              "        buttonEl.style.display =\n",
              "          google.colab.kernel.accessAllowed ? 'block' : 'none';\n",
              "\n",
              "        async function convertToInteractive(key) {\n",
              "          const element = document.querySelector('#df-b812fbee-07dd-40a0-bdc5-d6c23c9e0123');\n",
              "          const dataTable =\n",
              "            await google.colab.kernel.invokeFunction('convertToInteractive',\n",
              "                                                     [key], {});\n",
              "          if (!dataTable) return;\n",
              "\n",
              "          const docLinkHtml = 'Like what you see? Visit the ' +\n",
              "            '<a target=\"_blank\" href=https://colab.research.google.com/notebooks/data_table.ipynb>data table notebook</a>'\n",
              "            + ' to learn more about interactive tables.';\n",
              "          element.innerHTML = '';\n",
              "          dataTable['output_type'] = 'display_data';\n",
              "          await google.colab.output.renderOutput(dataTable, element);\n",
              "          const docLink = document.createElement('div');\n",
              "          docLink.innerHTML = docLinkHtml;\n",
              "          element.appendChild(docLink);\n",
              "        }\n",
              "      </script>\n",
              "    </div>\n",
              "  </div>\n",
              "  "
            ]
          },
          "metadata": {},
          "execution_count": 86
        }
      ],
      "source": [
        "dados_esp.head()"
      ]
    },
    {
      "cell_type": "code",
      "execution_count": null,
      "id": "ac0a91f7",
      "metadata": {
        "id": "ac0a91f7"
      },
      "outputs": [],
      "source": [
        "media_cab_gaf = statistics.mean(dados_gaf['Comprimento do Abdômen']) # Média do Comp. Abdômen\n",
        "media_can_gaf = statistics.mean(dados_gaf['Comprimento das Antenas']) # Média do Comp. Antena\n",
        "std_cab_gaf = statistics.stdev(dados_gaf['Comprimento do Abdômen']) # Desvio Padrão Amostral do Comp. Abdômen\n",
        "std_can_gaf = statistics.stdev(dados_gaf['Comprimento das Antenas']) # Desvio Padrão Amostra do Com. Antena"
      ]
    },
    {
      "cell_type": "code",
      "execution_count": null,
      "id": "103f1c84",
      "metadata": {
        "colab": {
          "base_uri": "https://localhost:8080/"
        },
        "id": "103f1c84",
        "outputId": "815a4f5b-41bf-46bc-853d-d08eed110d1d"
      },
      "outputs": [
        {
          "output_type": "stream",
          "name": "stdout",
          "text": [
            "Média Comp. Abdômen:  1.7518\n",
            "Média Comp. Antena:  3.5492\n",
            "Desvio Padrão Amostral do Comp. Abdômen:  0.7869410941832214\n",
            "Desvio Padrão Amostral do Comp. Antena:  1.41786105073229\n"
          ]
        }
      ],
      "source": [
        "print('Média Comp. Abdômen: ', media_cab_gaf)\n",
        "print('Média Comp. Antena: ', media_can_gaf)\n",
        "print('Desvio Padrão Amostral do Comp. Abdômen: ', std_cab_gaf)\n",
        "print('Desvio Padrão Amostral do Comp. Antena: ', std_can_gaf)"
      ]
    },
    {
      "cell_type": "code",
      "execution_count": null,
      "id": "4cf58f56",
      "metadata": {
        "id": "4cf58f56"
      },
      "outputs": [],
      "source": [
        "media_cab_esp = statistics.mean(dados_esp['Comprimento do Abdômen']) # Média do Comp. Abdômen\n",
        "media_can_esp = statistics.mean(dados_esp['Comprimento das Antenas']) # Média do Comp. Antena\n",
        "std_cab_esp = statistics.stdev(dados_esp['Comprimento do Abdômen']) # Desvio Padrão Amostral do Comp. Abdômen\n",
        "std_can_esp = statistics.stdev(dados_esp['Comprimento das Antenas']) # Desvio Padrão Amostra do Com. Antena"
      ]
    },
    {
      "cell_type": "code",
      "execution_count": null,
      "id": "c5abfcbe",
      "metadata": {
        "colab": {
          "base_uri": "https://localhost:8080/"
        },
        "id": "c5abfcbe",
        "outputId": "29f18cdb-84da-4d2c-9822-1e8543be1ef3"
      },
      "outputs": [
        {
          "output_type": "stream",
          "name": "stdout",
          "text": [
            "Média Comp. Abdômen:  8.1206\n",
            "Média Comp. Antena:  7.2156\n",
            "Desvio Padrão Amostral do Comp. Abdômen:  1.1297289001150241\n",
            "Desvio Padrão Amostral do Comp. Antena:  1.334945019123122\n"
          ]
        }
      ],
      "source": [
        "print('Média Comp. Abdômen: ', media_cab_esp)\n",
        "print('Média Comp. Antena: ', media_can_esp)\n",
        "print('Desvio Padrão Amostral do Comp. Abdômen: ', std_cab_esp)\n",
        "print('Desvio Padrão Amostral do Comp. Antena: ', std_can_esp)"
      ]
    },
    {
      "cell_type": "markdown",
      "id": "c1abc642",
      "metadata": {
        "id": "c1abc642"
      },
      "source": [
        "# Gráficos\n",
        "\n",
        "Vamos começar plotando os histogramas usando o Seaborn e o Matplotlib:"
      ]
    },
    {
      "cell_type": "code",
      "execution_count": null,
      "id": "1ff62ac9",
      "metadata": {
        "id": "1ff62ac9"
      },
      "outputs": [],
      "source": [
        "import matplotlib.pyplot as plt  \n",
        "import seaborn as sns"
      ]
    },
    {
      "cell_type": "code",
      "execution_count": null,
      "id": "5d3d9344",
      "metadata": {
        "colab": {
          "base_uri": "https://localhost:8080/",
          "height": 338
        },
        "id": "5d3d9344",
        "outputId": "6ced062d-e8b4-4433-b7a7-ac27a072de90"
      },
      "outputs": [
        {
          "output_type": "execute_result",
          "data": {
            "text/plain": [
              "[Text(0, 0.5, 'Contagem'), Text(0.5, 0, 'Comprimento das Antenas')]"
            ]
          },
          "metadata": {},
          "execution_count": 92
        },
        {
          "output_type": "display_data",
          "data": {
            "text/plain": [
              "<Figure size 800x320 with 2 Axes>"
            ],
            "image/png": "[encoded data removed]"
          },
          "metadata": {
            "needs_background": "light"
          }
        }
      ],
      "source": [
        "fig, axes = plt.subplots(1,2, figsize=(10, 4), dpi=80)\n",
        "fig.suptitle('Todos os Dados')\n",
        "\n",
        "\n",
        "sns.histplot(ax=axes[0],\n",
        "            data=dados['Comprimento do Abdômen'],  # Perceba que estamos passando a coluna do dataframe completo\n",
        "            kde=True,\n",
        "            bins=10,\n",
        "            linewidth=0.7,\n",
        "            )\n",
        "\n",
        "sns.histplot(ax=axes[1],\n",
        "            data=dados['Comprimento das Antenas'],\n",
        "            kde=True,\n",
        "            bins=10,\n",
        "            linewidth=0.7,\n",
        "            )\n",
        "\n",
        "axes[0].set(xlabel='Comprimento do Abdômen', ylabel='Contagem')\n",
        "axes[1].set(xlabel='Comprimento das Antenas', ylabel='Contagem')"
      ]
    },
    {
      "cell_type": "code",
      "execution_count": null,
      "id": "53ec93cc",
      "metadata": {
        "colab": {
          "base_uri": "https://localhost:8080/",
          "height": 326
        },
        "id": "53ec93cc",
        "outputId": "bcdaa205-ffcc-44a5-e953-de211c0066a6"
      },
      "outputs": [
        {
          "output_type": "execute_result",
          "data": {
            "text/plain": [
              "[Text(0, 0.5, 'Contagem'), Text(0.5, 0, 'Comprimento das Antenas')]"
            ]
          },
          "metadata": {},
          "execution_count": 93
        },
        {
          "output_type": "display_data",
          "data": {
            "text/plain": [
              "<Figure size 720x288 with 2 Axes>"
            ],
            "image/png": "[encoded data removed]"
          },
          "metadata": {
            "needs_background": "light"
          }
        }
      ],
      "source": [
        "fig, axes = plt.subplots(1, 2, figsize=(10, 4))\n",
        "fig.suptitle('Dados dos Gafanhotos')\n",
        "\n",
        "\n",
        "sns.histplot(ax=axes[0],\n",
        "            data=dados_gaf['Comprimento do Abdômen'], # Agora a coluna do dataframe só com gafanhotos\n",
        "            kde=True,\n",
        "            bins=10,\n",
        "            linewidth=0.7,\n",
        "            color='green'\n",
        "            )\n",
        "\n",
        "sns.histplot(ax=axes[1],\n",
        "            data=dados_gaf['Comprimento das Antenas'],\n",
        "            kde=True,\n",
        "            bins=10,\n",
        "            linewidth=0.7,\n",
        "            color='green'\n",
        "            )\n",
        "\n",
        "axes[0].set(xlabel='Comprimento do Abdômen', ylabel='Contagem')\n",
        "axes[1].set(xlabel='Comprimento das Antenas', ylabel='Contagem')"
      ]
    },
    {
      "cell_type": "code",
      "execution_count": null,
      "id": "403d2784",
      "metadata": {
        "colab": {
          "base_uri": "https://localhost:8080/",
          "height": 326
        },
        "id": "403d2784",
        "outputId": "1d534b2d-15c6-4dc8-b7c6-98bd7c36c6f9"
      },
      "outputs": [
        {
          "output_type": "execute_result",
          "data": {
            "text/plain": [
              "[Text(0, 0.5, 'Contagem'), Text(0.5, 0, 'Comprimento das Antenas')]"
            ]
          },
          "metadata": {},
          "execution_count": 94
        },
        {
          "output_type": "display_data",
          "data": {
            "text/plain": [
              "<Figure size 720x288 with 2 Axes>"
            ],
            "image/png": "[encoded data removed]"
          },
          "metadata": {
            "needs_background": "light"
          }
        }
      ],
      "source": [
        "fig, axes = plt.subplots(1, 2, figsize=(10, 4))\n",
        "fig.suptitle('Dados das Esperanças')\n",
        "\n",
        "\n",
        "sns.histplot(ax=axes[0],\n",
        "            data=dados_esp['Comprimento do Abdômen'],\n",
        "            kde=True,\n",
        "            bins=10,\n",
        "            linewidth=0.7,\n",
        "            color = 'red'\n",
        "            )\n",
        "\n",
        "sns.histplot(ax=axes[1],\n",
        "            data=dados_esp['Comprimento das Antenas'],\n",
        "            kde=True,\n",
        "            bins=10,\n",
        "            linewidth=0.7,\n",
        "            color = 'red'\n",
        "            )\n",
        "\n",
        "axes[0].set(xlabel='Comprimento do Abdômen', ylabel='Contagem')\n",
        "axes[1].set(xlabel='Comprimento das Antenas', ylabel='Contagem')"
      ]
    },
    {
      "cell_type": "code",
      "source": [
        "fig, axes = plt.subplots(1, 2, figsize=(10, 4))\n",
        "fig.suptitle('Dados de Todos os Insetos')\n",
        "\n",
        "\n",
        "sns.histplot(ax=axes[0],\n",
        "            data=dados,\n",
        "            x = 'Comprimento do Abdômen',\n",
        "            hue = 'Espécie' ,\n",
        "            kde=True,\n",
        "            bins=10,\n",
        "            linewidth=0.7,\n",
        "            )\n",
        "\n",
        "sns.histplot(ax=axes[1],\n",
        "            data=dados,\n",
        "            x = 'Comprimento das Antenas',\n",
        "            hue = 'Espécie',\n",
        "            kde=True,\n",
        "            bins=10,\n",
        "            linewidth=0.7,\n",
        "            )\n",
        "\n",
        "axes[0].set(xlabel='Comprimento do Abdômen', ylabel='Contagem')\n",
        "axes[1].set(xlabel='Comprimento das Antenas', ylabel='Contagem')"
      ],
      "metadata": {
        "colab": {
          "base_uri": "https://localhost:8080/",
          "height": 326
        },
        "id": "gi9ZQwCIdbbS",
        "outputId": "da023292-3c30-420e-a0a4-a8780705a996"
      },
      "id": "gi9ZQwCIdbbS",
      "execution_count": null,
      "outputs": [
        {
          "output_type": "execute_result",
          "data": {
            "text/plain": [
              "[Text(0, 0.5, 'Contagem'), Text(0.5, 0, 'Comprimento das Antenas')]"
            ]
          },
          "metadata": {},
          "execution_count": 108
        },
        {
          "output_type": "display_data",
          "data": {
            "text/plain": [
              "<Figure size 720x288 with 2 Axes>"
            ],
            "image/png": "[encoded data removed]"
          },
          "metadata": {
            "needs_background": "light"
          }
        }
      ]
    },
    {
      "cell_type": "markdown",
      "id": "a387aba9",
      "metadata": {
        "id": "a387aba9"
      },
      "source": [
        "Vamos ver um boxplot:"
      ]
    },
    {
      "cell_type": "code",
      "execution_count": null,
      "id": "a0582780",
      "metadata": {
        "colab": {
          "base_uri": "https://localhost:8080/",
          "height": 326
        },
        "id": "a0582780",
        "outputId": "1c755be2-744f-4b1a-ad11-0030f5b8d815"
      },
      "outputs": [
        {
          "output_type": "execute_result",
          "data": {
            "text/plain": [
              "<matplotlib.axes._subplots.AxesSubplot at 0x7f8ff3938850>"
            ]
          },
          "metadata": {},
          "execution_count": 48
        },
        {
          "output_type": "display_data",
          "data": {
            "text/plain": [
              "<Figure size 720x288 with 2 Axes>"
            ],
            "image/png": "[encoded data removed]"
          },
          "metadata": {
            "needs_background": "light"
          }
        }
      ],
      "source": [
        "fig, axes = plt.subplots(1, 2, figsize=(10, 4))\n",
        "fig.suptitle('Dados das Esperanças')\n",
        "\n",
        "sns.boxplot(x=\"Espécie\", y=\"Comprimento do Abdômen\",\n",
        "            palette=[\"g\", \"r\"],\n",
        "            linewidth=0.7,\n",
        "            ax=axes[0],\n",
        "            data=dados\n",
        "           )\n",
        "\n",
        "sns.boxplot(x=\"Espécie\", y=\"Comprimento das Antenas\",\n",
        "            palette=[\"g\", \"r\"],\n",
        "            linewidth=0.7,\n",
        "            ax=axes[1],\n",
        "            data=dados\n",
        "           )"
      ]
    },
    {
      "cell_type": "markdown",
      "id": "c4e10a8e",
      "metadata": {
        "id": "c4e10a8e"
      },
      "source": [
        "Vamos ver agora um gráfico de dispersão do Comprimento das Antenas em função do Comprimento do Abdômen. Vamos adicionar os histogramas de cada variável na lateral do eixo correspondente. Também vamos indicar para o método do Seaborn que existem duas espécies."
      ]
    },
    {
      "cell_type": "code",
      "execution_count": null,
      "id": "e877a067",
      "metadata": {
        "colab": {
          "base_uri": "https://localhost:8080/",
          "height": 382
        },
        "id": "e877a067",
        "outputId": "62676fd8-de3d-429f-ddc1-53271ff82869"
      },
      "outputs": [
        {
          "output_type": "execute_result",
          "data": {
            "text/plain": [
              "<seaborn.axisgrid.JointGrid at 0x7f8ff1045e50>"
            ]
          },
          "metadata": {},
          "execution_count": 109
        },
        {
          "output_type": "display_data",
          "data": {
            "text/plain": [
              "<Figure size 360x360 with 3 Axes>"
            ],
            "image/png": "[encoded data removed]"
          },
          "metadata": {
            "needs_background": "light"
          }
        }
      ],
      "source": [
        "sns.jointplot(data=dados,\n",
        "              x=\"Comprimento do Abdômen\", y=\"Comprimento das Antenas\",\n",
        "              height=5, \n",
        "              ratio=2,\n",
        "              marginal_ticks=True,\n",
        "              hue = 'Espécie'\n",
        "             )"
      ]
    },
    {
      "cell_type": "markdown",
      "id": "7afa969c",
      "metadata": {
        "id": "7afa969c"
      },
      "source": [
        "----------------------\n",
        "# Exemplo 2 - Botânica: Íris Dataset\n",
        "\n",
        "Esse dataset contém medidas da largura e comprimento da pétala e da sépala de **150 amostras** de flores, assim como a espécie de cada uma (*versicolor*, *setosa*, *virginica*). Mais informações: https://scikit-learn.org/stable/auto_examples/datasets/plot_iris_dataset.html.\n",
        "\n",
        "<img src=\"https://s3.amazonaws.com/assets.datacamp.com/blog_assets/Machine+Learning+R/iris-machinelearning.png\" alt=\"dieta\" width=\"600px\">"
      ]
    },
    {
      "cell_type": "markdown",
      "id": "66188fea",
      "metadata": {
        "id": "66188fea"
      },
      "source": [
        "Dentro da biblioteca Scikit Learn há bases da dados prontas utilizadas para exemplos e testes.\n",
        "\n",
        "Vamos importar essa base dados usando o comando:"
      ]
    },
    {
      "cell_type": "code",
      "execution_count": null,
      "id": "7882b52a",
      "metadata": {
        "id": "7882b52a"
      },
      "outputs": [],
      "source": [
        "from sklearn import datasets"
      ]
    },
    {
      "cell_type": "markdown",
      "id": "67e3be0c",
      "metadata": {
        "id": "67e3be0c"
      },
      "source": [
        "Agora vamos carregar os dados do dataset Iris:"
      ]
    },
    {
      "cell_type": "code",
      "execution_count": null,
      "id": "2625d2d9",
      "metadata": {
        "id": "2625d2d9"
      },
      "outputs": [],
      "source": [
        "# Carregando os dados\n",
        "iris = datasets.load_iris()"
      ]
    },
    {
      "cell_type": "code",
      "execution_count": null,
      "id": "8572fe52",
      "metadata": {
        "id": "8572fe52"
      },
      "outputs": [],
      "source": [
        "# Dê um print(iris) para ver como os dados estão estruturados nessa variável (objeto)\n",
        "# Perceba que é parecido com um dicioário nativo do Python"
      ]
    },
    {
      "cell_type": "code",
      "source": [
        "print(iris)"
      ],
      "metadata": {
        "id": "nHf1YPPGmXYT"
      },
      "id": "nHf1YPPGmXYT",
      "execution_count": null,
      "outputs": []
    },
    {
      "cell_type": "code",
      "execution_count": null,
      "id": "db299de2",
      "metadata": {
        "colab": {
          "base_uri": "https://localhost:8080/"
        },
        "id": "db299de2",
        "outputId": "f6e6ab46-4739-475f-b481-21bf9bb74cc4"
      },
      "outputs": [
        {
          "output_type": "execute_result",
          "data": {
            "text/plain": [
              "sklearn.utils.Bunch"
            ]
          },
          "metadata": {},
          "execution_count": 115
        }
      ],
      "source": [
        "type(iris) # Entretanto, para saber qual a 'estrutura de dados' da variável iris corretamente"
      ]
    },
    {
      "cell_type": "code",
      "execution_count": null,
      "id": "ad7b055f",
      "metadata": {
        "colab": {
          "base_uri": "https://localhost:8080/"
        },
        "id": "ad7b055f",
        "outputId": "41773b37-a5c1-4975-8239-e3927e080e40"
      },
      "outputs": [
        {
          "output_type": "execute_result",
          "data": {
            "text/plain": [
              "dict_keys(['data', 'target', 'frame', 'target_names', 'DESCR', 'feature_names', 'filename', 'data_module'])"
            ]
          },
          "metadata": {},
          "execution_count": 117
        }
      ],
      "source": [
        "iris.keys() # Para saber as 'chaves'"
      ]
    },
    {
      "cell_type": "code",
      "execution_count": null,
      "id": "93dd0b3f",
      "metadata": {
        "colab": {
          "base_uri": "https://localhost:8080/"
        },
        "id": "93dd0b3f",
        "outputId": "98cf7b0b-a67e-42a6-b8c1-35259ddfd7e8"
      },
      "outputs": [
        {
          "output_type": "execute_result",
          "data": {
            "text/plain": [
              "['sepal length (cm)',\n",
              " 'sepal width (cm)',\n",
              " 'petal length (cm)',\n",
              " 'petal width (cm)']"
            ]
          },
          "metadata": {},
          "execution_count": 118
        }
      ],
      "source": [
        "iris['feature_names'] # Acessar como em um dicionário"
      ]
    },
    {
      "cell_type": "code",
      "execution_count": null,
      "id": "7cc64ea9",
      "metadata": {
        "colab": {
          "base_uri": "https://localhost:8080/"
        },
        "id": "7cc64ea9",
        "outputId": "5ac14197-fd31-42a1-cced-685463c19dad"
      },
      "outputs": [
        {
          "output_type": "execute_result",
          "data": {
            "text/plain": [
              "['sepal length (cm)',\n",
              " 'sepal width (cm)',\n",
              " 'petal length (cm)',\n",
              " 'petal width (cm)']"
            ]
          },
          "metadata": {},
          "execution_count": 119
        }
      ],
      "source": [
        "iris.feature_names # Acessar como atributo de um objeto"
      ]
    },
    {
      "cell_type": "code",
      "source": [
        "iris.target         # Pegar Target"
      ],
      "metadata": {
        "colab": {
          "base_uri": "https://localhost:8080/"
        },
        "id": "wn_4cY2Imp3B",
        "outputId": "a67be173-f5c0-4d52-8e70-2044eb67b501"
      },
      "id": "wn_4cY2Imp3B",
      "execution_count": null,
      "outputs": [
        {
          "output_type": "execute_result",
          "data": {
            "text/plain": [
              "array([0, 0, 0, 0, 0, 0, 0, 0, 0, 0, 0, 0, 0, 0, 0, 0, 0, 0, 0, 0, 0, 0,\n",
              "       0, 0, 0, 0, 0, 0, 0, 0, 0, 0, 0, 0, 0, 0, 0, 0, 0, 0, 0, 0, 0, 0,\n",
              "       0, 0, 0, 0, 0, 0, 1, 1, 1, 1, 1, 1, 1, 1, 1, 1, 1, 1, 1, 1, 1, 1,\n",
              "       1, 1, 1, 1, 1, 1, 1, 1, 1, 1, 1, 1, 1, 1, 1, 1, 1, 1, 1, 1, 1, 1,\n",
              "       1, 1, 1, 1, 1, 1, 1, 1, 1, 1, 1, 1, 2, 2, 2, 2, 2, 2, 2, 2, 2, 2,\n",
              "       2, 2, 2, 2, 2, 2, 2, 2, 2, 2, 2, 2, 2, 2, 2, 2, 2, 2, 2, 2, 2, 2,\n",
              "       2, 2, 2, 2, 2, 2, 2, 2, 2, 2, 2, 2, 2, 2, 2, 2, 2, 2])"
            ]
          },
          "metadata": {},
          "execution_count": 120
        }
      ]
    },
    {
      "cell_type": "code",
      "source": [
        "iris.data            # Pegar Dados"
      ],
      "metadata": {
        "id": "OkjEcz-omuj6"
      },
      "id": "OkjEcz-omuj6",
      "execution_count": null,
      "outputs": []
    },
    {
      "cell_type": "markdown",
      "id": "92cdd00c",
      "metadata": {
        "id": "92cdd00c"
      },
      "source": [
        "Para facilitar a visualização dos dados, vamos usar o pandas.\n",
        "\n",
        "Para isso, vamos criar um dataframe pandas que recebe como dados os atributos do objeto iris que criamos acima."
      ]
    },
    {
      "cell_type": "code",
      "execution_count": null,
      "id": "0d219af0",
      "metadata": {
        "id": "0d219af0"
      },
      "outputs": [],
      "source": [
        "import pandas as pd"
      ]
    },
    {
      "cell_type": "code",
      "execution_count": null,
      "id": "05259d3e",
      "metadata": {
        "id": "05259d3e"
      },
      "outputs": [],
      "source": [
        "dados = pd.DataFrame(data=iris.data,  # Estamos dizendo que o dados do dataframe são o atributo data do objeto iris\n",
        "                     columns = iris.feature_names) # Já o nome das colunas do dataframe serão o atrib feature_names"
      ]
    },
    {
      "cell_type": "code",
      "execution_count": null,
      "id": "3c43b470",
      "metadata": {
        "colab": {
          "base_uri": "https://localhost:8080/",
          "height": 206
        },
        "id": "3c43b470",
        "outputId": "c7f13d8e-437a-44aa-8d52-68917471165f"
      },
      "outputs": [
        {
          "output_type": "execute_result",
          "data": {
            "text/plain": [
              "   sepal length (cm)  sepal width (cm)  petal length (cm)  petal width (cm)\n",
              "0                5.1               3.5                1.4               0.2\n",
              "1                4.9               3.0                1.4               0.2\n",
              "2                4.7               3.2                1.3               0.2\n",
              "3                4.6               3.1                1.5               0.2\n",
              "4                5.0               3.6                1.4               0.2"
            ],
            "text/html": [
              "\n",
              "  <div id=\"df-826438f5-7d19-46d5-aebd-790b7837aefa\">\n",
              "    <div class=\"colab-df-container\">\n",
              "      <div>\n",
              "<style scoped>\n",
              "    .dataframe tbody tr th:only-of-type {\n",
              "        vertical-align: middle;\n",
              "    }\n",
              "\n",
              "    .dataframe tbody tr th {\n",
              "        vertical-align: top;\n",
              "    }\n",
              "\n",
              "    .dataframe thead th {\n",
              "        text-align: right;\n",
              "    }\n",
              "</style>\n",
              "<table border=\"1\" class=\"dataframe\">\n",
              "  <thead>\n",
              "    <tr style=\"text-align: right;\">\n",
              "      <th></th>\n",
              "      <th>sepal length (cm)</th>\n",
              "      <th>sepal width (cm)</th>\n",
              "      <th>petal length (cm)</th>\n",
              "      <th>petal width (cm)</th>\n",
              "    </tr>\n",
              "  </thead>\n",
              "  <tbody>\n",
              "    <tr>\n",
              "      <th>0</th>\n",
              "      <td>5.1</td>\n",
              "      <td>3.5</td>\n",
              "      <td>1.4</td>\n",
              "      <td>0.2</td>\n",
              "    </tr>\n",
              "    <tr>\n",
              "      <th>1</th>\n",
              "      <td>4.9</td>\n",
              "      <td>3.0</td>\n",
              "      <td>1.4</td>\n",
              "      <td>0.2</td>\n",
              "    </tr>\n",
              "    <tr>\n",
              "      <th>2</th>\n",
              "      <td>4.7</td>\n",
              "      <td>3.2</td>\n",
              "      <td>1.3</td>\n",
              "      <td>0.2</td>\n",
              "    </tr>\n",
              "    <tr>\n",
              "      <th>3</th>\n",
              "      <td>4.6</td>\n",
              "      <td>3.1</td>\n",
              "      <td>1.5</td>\n",
              "      <td>0.2</td>\n",
              "    </tr>\n",
              "    <tr>\n",
              "      <th>4</th>\n",
              "      <td>5.0</td>\n",
              "      <td>3.6</td>\n",
              "      <td>1.4</td>\n",
              "      <td>0.2</td>\n",
              "    </tr>\n",
              "  </tbody>\n",
              "</table>\n",
              "</div>\n",
              "      <button class=\"colab-df-convert\" onclick=\"convertToInteractive('df-826438f5-7d19-46d5-aebd-790b7837aefa')\"\n",
              "              title=\"Convert this dataframe to an interactive table.\"\n",
              "              style=\"display:none;\">\n",
              "        \n",
              "  <svg xmlns=\"http://www.w3.org/2000/svg\" height=\"24px\"viewBox=\"0 0 24 24\"\n",
              "       width=\"24px\">\n",
              "    <path d=\"M0 0h24v24H0V0z\" fill=\"none\"/>\n",
              "    <path d=\"M18.56 5.44l.94 2.06.94-2.06 2.06-.94-2.06-.94-.94-2.06-.94 2.06-2.06.94zm-11 1L8.5 8.5l.94-2.06 2.06-.94-2.06-.94L8.5 2.5l-.94 2.06-2.06.94zm10 10l.94 2.06.94-2.06 2.06-.94-2.06-.94-.94-2.06-.94 2.06-2.06.94z\"/><path d=\"M17.41 7.96l-1.37-1.37c-.4-.4-.92-.59-1.43-.59-.52 0-1.04.2-1.43.59L10.3 9.45l-7.72 7.72c-.78.78-.78 2.05 0 2.83L4 21.41c.39.39.9.59 1.41.59.51 0 1.02-.2 1.41-.59l7.78-7.78 2.81-2.81c.8-.78.8-2.07 0-2.86zM5.41 20L4 18.59l7.72-7.72 1.47 1.35L5.41 20z\"/>\n",
              "  </svg>\n",
              "      </button>\n",
              "      \n",
              "  <style>\n",
              "    .colab-df-container {\n",
              "      display:flex;\n",
              "      flex-wrap:wrap;\n",
              "      gap: 12px;\n",
              "    }\n",
              "\n",
              "    .colab-df-convert {\n",
              "      background-color: #E8F0FE;\n",
              "      border: none;\n",
              "      border-radius: 50%;\n",
              "      cursor: pointer;\n",
              "      display: none;\n",
              "      fill: #1967D2;\n",
              "      height: 32px;\n",
              "      padding: 0 0 0 0;\n",
              "      width: 32px;\n",
              "    }\n",
              "\n",
              "    .colab-df-convert:hover {\n",
              "      background-color: #E2EBFA;\n",
              "      box-shadow: 0px 1px 2px rgba(60, 64, 67, 0.3), 0px 1px 3px 1px rgba(60, 64, 67, 0.15);\n",
              "      fill: #174EA6;\n",
              "    }\n",
              "\n",
              "    [theme=dark] .colab-df-convert {\n",
              "      background-color: #3B4455;\n",
              "      fill: #D2E3FC;\n",
              "    }\n",
              "\n",
              "    [theme=dark] .colab-df-convert:hover {\n",
              "      background-color: #434B5C;\n",
              "      box-shadow: 0px 1px 3px 1px rgba(0, 0, 0, 0.15);\n",
              "      filter: drop-shadow(0px 1px 2px rgba(0, 0, 0, 0.3));\n",
              "      fill: #FFFFFF;\n",
              "    }\n",
              "  </style>\n",
              "\n",
              "      <script>\n",
              "        const buttonEl =\n",
              "          document.querySelector('#df-826438f5-7d19-46d5-aebd-790b7837aefa button.colab-df-convert');\n",
              "        buttonEl.style.display =\n",
              "          google.colab.kernel.accessAllowed ? 'block' : 'none';\n",
              "\n",
              "        async function convertToInteractive(key) {\n",
              "          const element = document.querySelector('#df-826438f5-7d19-46d5-aebd-790b7837aefa');\n",
              "          const dataTable =\n",
              "            await google.colab.kernel.invokeFunction('convertToInteractive',\n",
              "                                                     [key], {});\n",
              "          if (!dataTable) return;\n",
              "\n",
              "          const docLinkHtml = 'Like what you see? Visit the ' +\n",
              "            '<a target=\"_blank\" href=https://colab.research.google.com/notebooks/data_table.ipynb>data table notebook</a>'\n",
              "            + ' to learn more about interactive tables.';\n",
              "          element.innerHTML = '';\n",
              "          dataTable['output_type'] = 'display_data';\n",
              "          await google.colab.output.renderOutput(dataTable, element);\n",
              "          const docLink = document.createElement('div');\n",
              "          docLink.innerHTML = docLinkHtml;\n",
              "          element.appendChild(docLink);\n",
              "        }\n",
              "      </script>\n",
              "    </div>\n",
              "  </div>\n",
              "  "
            ]
          },
          "metadata": {},
          "execution_count": 158
        }
      ],
      "source": [
        "dados.head() # Para vermos as linhas do dataframe (o número passado no head será o número de linhas printadas)"
      ]
    },
    {
      "cell_type": "markdown",
      "id": "eb554994",
      "metadata": {
        "id": "eb554994"
      },
      "source": [
        "Vamos adicionar a essa tabela, os correspondentes nomes das flores "
      ]
    },
    {
      "cell_type": "code",
      "execution_count": null,
      "id": "4af8fc84",
      "metadata": {
        "id": "4af8fc84"
      },
      "outputs": [],
      "source": [
        "dados['flower'] = iris.target    # Criando coluna chamada flower"
      ]
    },
    {
      "cell_type": "code",
      "execution_count": null,
      "id": "187d7565",
      "metadata": {
        "colab": {
          "base_uri": "https://localhost:8080/",
          "height": 206
        },
        "id": "187d7565",
        "outputId": "af703d8c-48dd-474f-e230-f849c94df626"
      },
      "outputs": [
        {
          "output_type": "execute_result",
          "data": {
            "text/plain": [
              "   sepal length (cm)  sepal width (cm)  petal length (cm)  petal width (cm)  \\\n",
              "0                5.1               3.5                1.4               0.2   \n",
              "1                4.9               3.0                1.4               0.2   \n",
              "2                4.7               3.2                1.3               0.2   \n",
              "3                4.6               3.1                1.5               0.2   \n",
              "4                5.0               3.6                1.4               0.2   \n",
              "\n",
              "   flower  \n",
              "0       0  \n",
              "1       0  \n",
              "2       0  \n",
              "3       0  \n",
              "4       0  "
            ],
            "text/html": [
              "\n",
              "  <div id=\"df-d579751f-d9c8-4114-b95f-937d2eb8ef89\">\n",
              "    <div class=\"colab-df-container\">\n",
              "      <div>\n",
              "<style scoped>\n",
              "    .dataframe tbody tr th:only-of-type {\n",
              "        vertical-align: middle;\n",
              "    }\n",
              "\n",
              "    .dataframe tbody tr th {\n",
              "        vertical-align: top;\n",
              "    }\n",
              "\n",
              "    .dataframe thead th {\n",
              "        text-align: right;\n",
              "    }\n",
              "</style>\n",
              "<table border=\"1\" class=\"dataframe\">\n",
              "  <thead>\n",
              "    <tr style=\"text-align: right;\">\n",
              "      <th></th>\n",
              "      <th>sepal length (cm)</th>\n",
              "      <th>sepal width (cm)</th>\n",
              "      <th>petal length (cm)</th>\n",
              "      <th>petal width (cm)</th>\n",
              "      <th>flower</th>\n",
              "    </tr>\n",
              "  </thead>\n",
              "  <tbody>\n",
              "    <tr>\n",
              "      <th>0</th>\n",
              "      <td>5.1</td>\n",
              "      <td>3.5</td>\n",
              "      <td>1.4</td>\n",
              "      <td>0.2</td>\n",
              "      <td>0</td>\n",
              "    </tr>\n",
              "    <tr>\n",
              "      <th>1</th>\n",
              "      <td>4.9</td>\n",
              "      <td>3.0</td>\n",
              "      <td>1.4</td>\n",
              "      <td>0.2</td>\n",
              "      <td>0</td>\n",
              "    </tr>\n",
              "    <tr>\n",
              "      <th>2</th>\n",
              "      <td>4.7</td>\n",
              "      <td>3.2</td>\n",
              "      <td>1.3</td>\n",
              "      <td>0.2</td>\n",
              "      <td>0</td>\n",
              "    </tr>\n",
              "    <tr>\n",
              "      <th>3</th>\n",
              "      <td>4.6</td>\n",
              "      <td>3.1</td>\n",
              "      <td>1.5</td>\n",
              "      <td>0.2</td>\n",
              "      <td>0</td>\n",
              "    </tr>\n",
              "    <tr>\n",
              "      <th>4</th>\n",
              "      <td>5.0</td>\n",
              "      <td>3.6</td>\n",
              "      <td>1.4</td>\n",
              "      <td>0.2</td>\n",
              "      <td>0</td>\n",
              "    </tr>\n",
              "  </tbody>\n",
              "</table>\n",
              "</div>\n",
              "      <button class=\"colab-df-convert\" onclick=\"convertToInteractive('df-d579751f-d9c8-4114-b95f-937d2eb8ef89')\"\n",
              "              title=\"Convert this dataframe to an interactive table.\"\n",
              "              style=\"display:none;\">\n",
              "        \n",
              "  <svg xmlns=\"http://www.w3.org/2000/svg\" height=\"24px\"viewBox=\"0 0 24 24\"\n",
              "       width=\"24px\">\n",
              "    <path d=\"M0 0h24v24H0V0z\" fill=\"none\"/>\n",
              "    <path d=\"M18.56 5.44l.94 2.06.94-2.06 2.06-.94-2.06-.94-.94-2.06-.94 2.06-2.06.94zm-11 1L8.5 8.5l.94-2.06 2.06-.94-2.06-.94L8.5 2.5l-.94 2.06-2.06.94zm10 10l.94 2.06.94-2.06 2.06-.94-2.06-.94-.94-2.06-.94 2.06-2.06.94z\"/><path d=\"M17.41 7.96l-1.37-1.37c-.4-.4-.92-.59-1.43-.59-.52 0-1.04.2-1.43.59L10.3 9.45l-7.72 7.72c-.78.78-.78 2.05 0 2.83L4 21.41c.39.39.9.59 1.41.59.51 0 1.02-.2 1.41-.59l7.78-7.78 2.81-2.81c.8-.78.8-2.07 0-2.86zM5.41 20L4 18.59l7.72-7.72 1.47 1.35L5.41 20z\"/>\n",
              "  </svg>\n",
              "      </button>\n",
              "      \n",
              "  <style>\n",
              "    .colab-df-container {\n",
              "      display:flex;\n",
              "      flex-wrap:wrap;\n",
              "      gap: 12px;\n",
              "    }\n",
              "\n",
              "    .colab-df-convert {\n",
              "      background-color: #E8F0FE;\n",
              "      border: none;\n",
              "      border-radius: 50%;\n",
              "      cursor: pointer;\n",
              "      display: none;\n",
              "      fill: #1967D2;\n",
              "      height: 32px;\n",
              "      padding: 0 0 0 0;\n",
              "      width: 32px;\n",
              "    }\n",
              "\n",
              "    .colab-df-convert:hover {\n",
              "      background-color: #E2EBFA;\n",
              "      box-shadow: 0px 1px 2px rgba(60, 64, 67, 0.3), 0px 1px 3px 1px rgba(60, 64, 67, 0.15);\n",
              "      fill: #174EA6;\n",
              "    }\n",
              "\n",
              "    [theme=dark] .colab-df-convert {\n",
              "      background-color: #3B4455;\n",
              "      fill: #D2E3FC;\n",
              "    }\n",
              "\n",
              "    [theme=dark] .colab-df-convert:hover {\n",
              "      background-color: #434B5C;\n",
              "      box-shadow: 0px 1px 3px 1px rgba(0, 0, 0, 0.15);\n",
              "      filter: drop-shadow(0px 1px 2px rgba(0, 0, 0, 0.3));\n",
              "      fill: #FFFFFF;\n",
              "    }\n",
              "  </style>\n",
              "\n",
              "      <script>\n",
              "        const buttonEl =\n",
              "          document.querySelector('#df-d579751f-d9c8-4114-b95f-937d2eb8ef89 button.colab-df-convert');\n",
              "        buttonEl.style.display =\n",
              "          google.colab.kernel.accessAllowed ? 'block' : 'none';\n",
              "\n",
              "        async function convertToInteractive(key) {\n",
              "          const element = document.querySelector('#df-d579751f-d9c8-4114-b95f-937d2eb8ef89');\n",
              "          const dataTable =\n",
              "            await google.colab.kernel.invokeFunction('convertToInteractive',\n",
              "                                                     [key], {});\n",
              "          if (!dataTable) return;\n",
              "\n",
              "          const docLinkHtml = 'Like what you see? Visit the ' +\n",
              "            '<a target=\"_blank\" href=https://colab.research.google.com/notebooks/data_table.ipynb>data table notebook</a>'\n",
              "            + ' to learn more about interactive tables.';\n",
              "          element.innerHTML = '';\n",
              "          dataTable['output_type'] = 'display_data';\n",
              "          await google.colab.output.renderOutput(dataTable, element);\n",
              "          const docLink = document.createElement('div');\n",
              "          docLink.innerHTML = docLinkHtml;\n",
              "          element.appendChild(docLink);\n",
              "        }\n",
              "      </script>\n",
              "    </div>\n",
              "  </div>\n",
              "  "
            ]
          },
          "metadata": {},
          "execution_count": 160
        }
      ],
      "source": [
        "dados.head()"
      ]
    },
    {
      "cell_type": "markdown",
      "id": "aa742723",
      "metadata": {
        "id": "aa742723"
      },
      "source": [
        "Neste dataset, cada número corresponde a uma classe de flor. Vamos transformar para aparecer o nome de cada uma. Para isso faremos uma função que irá mapear os nomes de acordo com os números. Vamos aplicar a função sobre uma coluna inteira do nosso dataframe."
      ]
    },
    {
      "cell_type": "code",
      "execution_count": null,
      "id": "f5b952f0",
      "metadata": {
        "id": "f5b952f0"
      },
      "outputs": [],
      "source": [
        "iris.target_names  # Aqui estamos vendo os nomes que vem junto com o dataset"
      ]
    },
    {
      "cell_type": "code",
      "execution_count": null,
      "id": "6de08294",
      "metadata": {
        "id": "6de08294"
      },
      "outputs": [],
      "source": [
        "# Aqui estamos criando uma funcao que recebe o número da classe e retorna o nome correspondente\n",
        "def mapear_nomes(numero_classe):\n",
        "    flower_map = {\n",
        "        0:iris.target_names[0],\n",
        "        1:iris.target_names[1],\n",
        "        2:iris.target_names[2]\n",
        "    }\n",
        "    return(flower_map[numero_classe])"
      ]
    },
    {
      "cell_type": "code",
      "execution_count": null,
      "id": "ca8ecece",
      "metadata": {
        "id": "ca8ecece"
      },
      "outputs": [],
      "source": [
        "# O pandas permite que nos apliquemos uma função para todas as entradas de uma coluna\n",
        "# Observe que prático é aplicar a função mapear_nomes sobre todos os valores na células da coluna 'flower'\n",
        "# O resultado está sendo passado para uma nova coluna, chamada 'flower_name'\n",
        "\n",
        "dados['flower_name'] = dados['flower'].apply(mapear_nomes)"
      ]
    },
    {
      "cell_type": "code",
      "execution_count": null,
      "id": "3d4cafca",
      "metadata": {
        "colab": {
          "base_uri": "https://localhost:8080/",
          "height": 143
        },
        "id": "3d4cafca",
        "outputId": "552de144-485b-4f65-dcf7-e95f2fbb21e7"
      },
      "outputs": [
        {
          "output_type": "execute_result",
          "data": {
            "text/plain": [
              "   sepal length (cm)  sepal width (cm)  petal length (cm)  petal width (cm)  \\\n",
              "0                5.1               3.5                1.4               0.2   \n",
              "1                4.9               3.0                1.4               0.2   \n",
              "2                4.7               3.2                1.3               0.2   \n",
              "\n",
              "   flower flower_name  \n",
              "0       0      setosa  \n",
              "1       0      setosa  \n",
              "2       0      setosa  "
            ],
            "text/html": [
              "\n",
              "  <div id=\"df-349d4592-9cc8-4cec-975c-05efe47e8491\">\n",
              "    <div class=\"colab-df-container\">\n",
              "      <div>\n",
              "<style scoped>\n",
              "    .dataframe tbody tr th:only-of-type {\n",
              "        vertical-align: middle;\n",
              "    }\n",
              "\n",
              "    .dataframe tbody tr th {\n",
              "        vertical-align: top;\n",
              "    }\n",
              "\n",
              "    .dataframe thead th {\n",
              "        text-align: right;\n",
              "    }\n",
              "</style>\n",
              "<table border=\"1\" class=\"dataframe\">\n",
              "  <thead>\n",
              "    <tr style=\"text-align: right;\">\n",
              "      <th></th>\n",
              "      <th>sepal length (cm)</th>\n",
              "      <th>sepal width (cm)</th>\n",
              "      <th>petal length (cm)</th>\n",
              "      <th>petal width (cm)</th>\n",
              "      <th>flower</th>\n",
              "      <th>flower_name</th>\n",
              "    </tr>\n",
              "  </thead>\n",
              "  <tbody>\n",
              "    <tr>\n",
              "      <th>0</th>\n",
              "      <td>5.1</td>\n",
              "      <td>3.5</td>\n",
              "      <td>1.4</td>\n",
              "      <td>0.2</td>\n",
              "      <td>0</td>\n",
              "      <td>setosa</td>\n",
              "    </tr>\n",
              "    <tr>\n",
              "      <th>1</th>\n",
              "      <td>4.9</td>\n",
              "      <td>3.0</td>\n",
              "      <td>1.4</td>\n",
              "      <td>0.2</td>\n",
              "      <td>0</td>\n",
              "      <td>setosa</td>\n",
              "    </tr>\n",
              "    <tr>\n",
              "      <th>2</th>\n",
              "      <td>4.7</td>\n",
              "      <td>3.2</td>\n",
              "      <td>1.3</td>\n",
              "      <td>0.2</td>\n",
              "      <td>0</td>\n",
              "      <td>setosa</td>\n",
              "    </tr>\n",
              "  </tbody>\n",
              "</table>\n",
              "</div>\n",
              "      <button class=\"colab-df-convert\" onclick=\"convertToInteractive('df-349d4592-9cc8-4cec-975c-05efe47e8491')\"\n",
              "              title=\"Convert this dataframe to an interactive table.\"\n",
              "              style=\"display:none;\">\n",
              "        \n",
              "  <svg xmlns=\"http://www.w3.org/2000/svg\" height=\"24px\"viewBox=\"0 0 24 24\"\n",
              "       width=\"24px\">\n",
              "    <path d=\"M0 0h24v24H0V0z\" fill=\"none\"/>\n",
              "    <path d=\"M18.56 5.44l.94 2.06.94-2.06 2.06-.94-2.06-.94-.94-2.06-.94 2.06-2.06.94zm-11 1L8.5 8.5l.94-2.06 2.06-.94-2.06-.94L8.5 2.5l-.94 2.06-2.06.94zm10 10l.94 2.06.94-2.06 2.06-.94-2.06-.94-.94-2.06-.94 2.06-2.06.94z\"/><path d=\"M17.41 7.96l-1.37-1.37c-.4-.4-.92-.59-1.43-.59-.52 0-1.04.2-1.43.59L10.3 9.45l-7.72 7.72c-.78.78-.78 2.05 0 2.83L4 21.41c.39.39.9.59 1.41.59.51 0 1.02-.2 1.41-.59l7.78-7.78 2.81-2.81c.8-.78.8-2.07 0-2.86zM5.41 20L4 18.59l7.72-7.72 1.47 1.35L5.41 20z\"/>\n",
              "  </svg>\n",
              "      </button>\n",
              "      \n",
              "  <style>\n",
              "    .colab-df-container {\n",
              "      display:flex;\n",
              "      flex-wrap:wrap;\n",
              "      gap: 12px;\n",
              "    }\n",
              "\n",
              "    .colab-df-convert {\n",
              "      background-color: #E8F0FE;\n",
              "      border: none;\n",
              "      border-radius: 50%;\n",
              "      cursor: pointer;\n",
              "      display: none;\n",
              "      fill: #1967D2;\n",
              "      height: 32px;\n",
              "      padding: 0 0 0 0;\n",
              "      width: 32px;\n",
              "    }\n",
              "\n",
              "    .colab-df-convert:hover {\n",
              "      background-color: #E2EBFA;\n",
              "      box-shadow: 0px 1px 2px rgba(60, 64, 67, 0.3), 0px 1px 3px 1px rgba(60, 64, 67, 0.15);\n",
              "      fill: #174EA6;\n",
              "    }\n",
              "\n",
              "    [theme=dark] .colab-df-convert {\n",
              "      background-color: #3B4455;\n",
              "      fill: #D2E3FC;\n",
              "    }\n",
              "\n",
              "    [theme=dark] .colab-df-convert:hover {\n",
              "      background-color: #434B5C;\n",
              "      box-shadow: 0px 1px 3px 1px rgba(0, 0, 0, 0.15);\n",
              "      filter: drop-shadow(0px 1px 2px rgba(0, 0, 0, 0.3));\n",
              "      fill: #FFFFFF;\n",
              "    }\n",
              "  </style>\n",
              "\n",
              "      <script>\n",
              "        const buttonEl =\n",
              "          document.querySelector('#df-349d4592-9cc8-4cec-975c-05efe47e8491 button.colab-df-convert');\n",
              "        buttonEl.style.display =\n",
              "          google.colab.kernel.accessAllowed ? 'block' : 'none';\n",
              "\n",
              "        async function convertToInteractive(key) {\n",
              "          const element = document.querySelector('#df-349d4592-9cc8-4cec-975c-05efe47e8491');\n",
              "          const dataTable =\n",
              "            await google.colab.kernel.invokeFunction('convertToInteractive',\n",
              "                                                     [key], {});\n",
              "          if (!dataTable) return;\n",
              "\n",
              "          const docLinkHtml = 'Like what you see? Visit the ' +\n",
              "            '<a target=\"_blank\" href=https://colab.research.google.com/notebooks/data_table.ipynb>data table notebook</a>'\n",
              "            + ' to learn more about interactive tables.';\n",
              "          element.innerHTML = '';\n",
              "          dataTable['output_type'] = 'display_data';\n",
              "          await google.colab.output.renderOutput(dataTable, element);\n",
              "          const docLink = document.createElement('div');\n",
              "          docLink.innerHTML = docLinkHtml;\n",
              "          element.appendChild(docLink);\n",
              "        }\n",
              "      </script>\n",
              "    </div>\n",
              "  </div>\n",
              "  "
            ]
          },
          "metadata": {},
          "execution_count": 164
        }
      ],
      "source": [
        "dados.head(3)"
      ]
    },
    {
      "cell_type": "markdown",
      "id": "e3300318",
      "metadata": {
        "id": "e3300318"
      },
      "source": [
        "Vamos jogar fora a coluna **flower** uma vez que agora temos o nome da classe em outra coluna."
      ]
    },
    {
      "cell_type": "code",
      "execution_count": null,
      "id": "f1688c13",
      "metadata": {
        "id": "f1688c13"
      },
      "outputs": [],
      "source": [
        "dados = dados.drop(columns=['flower'])"
      ]
    },
    {
      "cell_type": "code",
      "execution_count": null,
      "id": "f8b0536a",
      "metadata": {
        "colab": {
          "base_uri": "https://localhost:8080/",
          "height": 143
        },
        "id": "f8b0536a",
        "outputId": "c9873240-df72-4252-ae34-b8552008fd34"
      },
      "outputs": [
        {
          "output_type": "execute_result",
          "data": {
            "text/plain": [
              "   sepal length (cm)  sepal width (cm)  petal length (cm)  petal width (cm)  \\\n",
              "0                5.1               3.5                1.4               0.2   \n",
              "1                4.9               3.0                1.4               0.2   \n",
              "2                4.7               3.2                1.3               0.2   \n",
              "\n",
              "  flower_name  \n",
              "0      setosa  \n",
              "1      setosa  \n",
              "2      setosa  "
            ],
            "text/html": [
              "\n",
              "  <div id=\"df-506141ca-c4f7-4d2a-b727-6511c86a16b6\">\n",
              "    <div class=\"colab-df-container\">\n",
              "      <div>\n",
              "<style scoped>\n",
              "    .dataframe tbody tr th:only-of-type {\n",
              "        vertical-align: middle;\n",
              "    }\n",
              "\n",
              "    .dataframe tbody tr th {\n",
              "        vertical-align: top;\n",
              "    }\n",
              "\n",
              "    .dataframe thead th {\n",
              "        text-align: right;\n",
              "    }\n",
              "</style>\n",
              "<table border=\"1\" class=\"dataframe\">\n",
              "  <thead>\n",
              "    <tr style=\"text-align: right;\">\n",
              "      <th></th>\n",
              "      <th>sepal length (cm)</th>\n",
              "      <th>sepal width (cm)</th>\n",
              "      <th>petal length (cm)</th>\n",
              "      <th>petal width (cm)</th>\n",
              "      <th>flower_name</th>\n",
              "    </tr>\n",
              "  </thead>\n",
              "  <tbody>\n",
              "    <tr>\n",
              "      <th>0</th>\n",
              "      <td>5.1</td>\n",
              "      <td>3.5</td>\n",
              "      <td>1.4</td>\n",
              "      <td>0.2</td>\n",
              "      <td>setosa</td>\n",
              "    </tr>\n",
              "    <tr>\n",
              "      <th>1</th>\n",
              "      <td>4.9</td>\n",
              "      <td>3.0</td>\n",
              "      <td>1.4</td>\n",
              "      <td>0.2</td>\n",
              "      <td>setosa</td>\n",
              "    </tr>\n",
              "    <tr>\n",
              "      <th>2</th>\n",
              "      <td>4.7</td>\n",
              "      <td>3.2</td>\n",
              "      <td>1.3</td>\n",
              "      <td>0.2</td>\n",
              "      <td>setosa</td>\n",
              "    </tr>\n",
              "  </tbody>\n",
              "</table>\n",
              "</div>\n",
              "      <button class=\"colab-df-convert\" onclick=\"convertToInteractive('df-506141ca-c4f7-4d2a-b727-6511c86a16b6')\"\n",
              "              title=\"Convert this dataframe to an interactive table.\"\n",
              "              style=\"display:none;\">\n",
              "        \n",
              "  <svg xmlns=\"http://www.w3.org/2000/svg\" height=\"24px\"viewBox=\"0 0 24 24\"\n",
              "       width=\"24px\">\n",
              "    <path d=\"M0 0h24v24H0V0z\" fill=\"none\"/>\n",
              "    <path d=\"M18.56 5.44l.94 2.06.94-2.06 2.06-.94-2.06-.94-.94-2.06-.94 2.06-2.06.94zm-11 1L8.5 8.5l.94-2.06 2.06-.94-2.06-.94L8.5 2.5l-.94 2.06-2.06.94zm10 10l.94 2.06.94-2.06 2.06-.94-2.06-.94-.94-2.06-.94 2.06-2.06.94z\"/><path d=\"M17.41 7.96l-1.37-1.37c-.4-.4-.92-.59-1.43-.59-.52 0-1.04.2-1.43.59L10.3 9.45l-7.72 7.72c-.78.78-.78 2.05 0 2.83L4 21.41c.39.39.9.59 1.41.59.51 0 1.02-.2 1.41-.59l7.78-7.78 2.81-2.81c.8-.78.8-2.07 0-2.86zM5.41 20L4 18.59l7.72-7.72 1.47 1.35L5.41 20z\"/>\n",
              "  </svg>\n",
              "      </button>\n",
              "      \n",
              "  <style>\n",
              "    .colab-df-container {\n",
              "      display:flex;\n",
              "      flex-wrap:wrap;\n",
              "      gap: 12px;\n",
              "    }\n",
              "\n",
              "    .colab-df-convert {\n",
              "      background-color: #E8F0FE;\n",
              "      border: none;\n",
              "      border-radius: 50%;\n",
              "      cursor: pointer;\n",
              "      display: none;\n",
              "      fill: #1967D2;\n",
              "      height: 32px;\n",
              "      padding: 0 0 0 0;\n",
              "      width: 32px;\n",
              "    }\n",
              "\n",
              "    .colab-df-convert:hover {\n",
              "      background-color: #E2EBFA;\n",
              "      box-shadow: 0px 1px 2px rgba(60, 64, 67, 0.3), 0px 1px 3px 1px rgba(60, 64, 67, 0.15);\n",
              "      fill: #174EA6;\n",
              "    }\n",
              "\n",
              "    [theme=dark] .colab-df-convert {\n",
              "      background-color: #3B4455;\n",
              "      fill: #D2E3FC;\n",
              "    }\n",
              "\n",
              "    [theme=dark] .colab-df-convert:hover {\n",
              "      background-color: #434B5C;\n",
              "      box-shadow: 0px 1px 3px 1px rgba(0, 0, 0, 0.15);\n",
              "      filter: drop-shadow(0px 1px 2px rgba(0, 0, 0, 0.3));\n",
              "      fill: #FFFFFF;\n",
              "    }\n",
              "  </style>\n",
              "\n",
              "      <script>\n",
              "        const buttonEl =\n",
              "          document.querySelector('#df-506141ca-c4f7-4d2a-b727-6511c86a16b6 button.colab-df-convert');\n",
              "        buttonEl.style.display =\n",
              "          google.colab.kernel.accessAllowed ? 'block' : 'none';\n",
              "\n",
              "        async function convertToInteractive(key) {\n",
              "          const element = document.querySelector('#df-506141ca-c4f7-4d2a-b727-6511c86a16b6');\n",
              "          const dataTable =\n",
              "            await google.colab.kernel.invokeFunction('convertToInteractive',\n",
              "                                                     [key], {});\n",
              "          if (!dataTable) return;\n",
              "\n",
              "          const docLinkHtml = 'Like what you see? Visit the ' +\n",
              "            '<a target=\"_blank\" href=https://colab.research.google.com/notebooks/data_table.ipynb>data table notebook</a>'\n",
              "            + ' to learn more about interactive tables.';\n",
              "          element.innerHTML = '';\n",
              "          dataTable['output_type'] = 'display_data';\n",
              "          await google.colab.output.renderOutput(dataTable, element);\n",
              "          const docLink = document.createElement('div');\n",
              "          docLink.innerHTML = docLinkHtml;\n",
              "          element.appendChild(docLink);\n",
              "        }\n",
              "      </script>\n",
              "    </div>\n",
              "  </div>\n",
              "  "
            ]
          },
          "metadata": {},
          "execution_count": 166
        }
      ],
      "source": [
        "dados.head(3)"
      ]
    },
    {
      "cell_type": "markdown",
      "id": "541e8724",
      "metadata": {
        "id": "541e8724"
      },
      "source": [
        "# Informações técnicas sobre os dados\n",
        "\n",
        "O método **.info()** do pandas nos diz quais são os tipos de dados que temos em cada coluna, a quantidade de linhas não nulas e quanto espaço na memória do computador (RAM) nosso dataframe está ocupando:"
      ]
    },
    {
      "cell_type": "code",
      "execution_count": null,
      "id": "eaf6cdc4",
      "metadata": {
        "colab": {
          "base_uri": "https://localhost:8080/"
        },
        "id": "eaf6cdc4",
        "outputId": "d08ac907-f3a4-4a60-ecd6-6ee6375f7d72"
      },
      "outputs": [
        {
          "output_type": "stream",
          "name": "stdout",
          "text": [
            "<class 'pandas.core.frame.DataFrame'>\n",
            "RangeIndex: 150 entries, 0 to 149\n",
            "Data columns (total 5 columns):\n",
            " #   Column             Non-Null Count  Dtype  \n",
            "---  ------             --------------  -----  \n",
            " 0   sepal length (cm)  150 non-null    float64\n",
            " 1   sepal width (cm)   150 non-null    float64\n",
            " 2   petal length (cm)  150 non-null    float64\n",
            " 3   petal width (cm)   150 non-null    float64\n",
            " 4   flower_name        150 non-null    object \n",
            "dtypes: float64(4), object(1)\n",
            "memory usage: 6.0+ KB\n"
          ]
        }
      ],
      "source": [
        "dados.info()"
      ]
    },
    {
      "cell_type": "markdown",
      "id": "421ad37f",
      "metadata": {
        "id": "421ad37f"
      },
      "source": [
        "# Estatísticas\n",
        "\n",
        "O método **.describe()** do pandas nos gera estatísticas básicas de todas as colunas do dataframe:"
      ]
    },
    {
      "cell_type": "code",
      "execution_count": null,
      "id": "a2c7fd7e",
      "metadata": {
        "colab": {
          "base_uri": "https://localhost:8080/",
          "height": 300
        },
        "id": "a2c7fd7e",
        "outputId": "1c5c2ebc-472c-46e1-f045-abaaf09c995b"
      },
      "outputs": [
        {
          "output_type": "execute_result",
          "data": {
            "text/plain": [
              "       sepal length (cm)  sepal width (cm)  petal length (cm)  \\\n",
              "count         150.000000        150.000000         150.000000   \n",
              "mean            5.843333          3.057333           3.758000   \n",
              "std             0.828066          0.435866           1.765298   \n",
              "min             4.300000          2.000000           1.000000   \n",
              "25%             5.100000          2.800000           1.600000   \n",
              "50%             5.800000          3.000000           4.350000   \n",
              "75%             6.400000          3.300000           5.100000   \n",
              "max             7.900000          4.400000           6.900000   \n",
              "\n",
              "       petal width (cm)  \n",
              "count        150.000000  \n",
              "mean           1.199333  \n",
              "std            0.762238  \n",
              "min            0.100000  \n",
              "25%            0.300000  \n",
              "50%            1.300000  \n",
              "75%            1.800000  \n",
              "max            2.500000  "
            ],
            "text/html": [
              "\n",
              "  <div id=\"df-7ccfd12d-df7d-413b-8be1-8f7a6304f70c\">\n",
              "    <div class=\"colab-df-container\">\n",
              "      <div>\n",
              "<style scoped>\n",
              "    .dataframe tbody tr th:only-of-type {\n",
              "        vertical-align: middle;\n",
              "    }\n",
              "\n",
              "    .dataframe tbody tr th {\n",
              "        vertical-align: top;\n",
              "    }\n",
              "\n",
              "    .dataframe thead th {\n",
              "        text-align: right;\n",
              "    }\n",
              "</style>\n",
              "<table border=\"1\" class=\"dataframe\">\n",
              "  <thead>\n",
              "    <tr style=\"text-align: right;\">\n",
              "      <th></th>\n",
              "      <th>sepal length (cm)</th>\n",
              "      <th>sepal width (cm)</th>\n",
              "      <th>petal length (cm)</th>\n",
              "      <th>petal width (cm)</th>\n",
              "    </tr>\n",
              "  </thead>\n",
              "  <tbody>\n",
              "    <tr>\n",
              "      <th>count</th>\n",
              "      <td>150.000000</td>\n",
              "      <td>150.000000</td>\n",
              "      <td>150.000000</td>\n",
              "      <td>150.000000</td>\n",
              "    </tr>\n",
              "    <tr>\n",
              "      <th>mean</th>\n",
              "      <td>5.843333</td>\n",
              "      <td>3.057333</td>\n",
              "      <td>3.758000</td>\n",
              "      <td>1.199333</td>\n",
              "    </tr>\n",
              "    <tr>\n",
              "      <th>std</th>\n",
              "      <td>0.828066</td>\n",
              "      <td>0.435866</td>\n",
              "      <td>1.765298</td>\n",
              "      <td>0.762238</td>\n",
              "    </tr>\n",
              "    <tr>\n",
              "      <th>min</th>\n",
              "      <td>4.300000</td>\n",
              "      <td>2.000000</td>\n",
              "      <td>1.000000</td>\n",
              "      <td>0.100000</td>\n",
              "    </tr>\n",
              "    <tr>\n",
              "      <th>25%</th>\n",
              "      <td>5.100000</td>\n",
              "      <td>2.800000</td>\n",
              "      <td>1.600000</td>\n",
              "      <td>0.300000</td>\n",
              "    </tr>\n",
              "    <tr>\n",
              "      <th>50%</th>\n",
              "      <td>5.800000</td>\n",
              "      <td>3.000000</td>\n",
              "      <td>4.350000</td>\n",
              "      <td>1.300000</td>\n",
              "    </tr>\n",
              "    <tr>\n",
              "      <th>75%</th>\n",
              "      <td>6.400000</td>\n",
              "      <td>3.300000</td>\n",
              "      <td>5.100000</td>\n",
              "      <td>1.800000</td>\n",
              "    </tr>\n",
              "    <tr>\n",
              "      <th>max</th>\n",
              "      <td>7.900000</td>\n",
              "      <td>4.400000</td>\n",
              "      <td>6.900000</td>\n",
              "      <td>2.500000</td>\n",
              "    </tr>\n",
              "  </tbody>\n",
              "</table>\n",
              "</div>\n",
              "      <button class=\"colab-df-convert\" onclick=\"convertToInteractive('df-7ccfd12d-df7d-413b-8be1-8f7a6304f70c')\"\n",
              "              title=\"Convert this dataframe to an interactive table.\"\n",
              "              style=\"display:none;\">\n",
              "        \n",
              "  <svg xmlns=\"http://www.w3.org/2000/svg\" height=\"24px\"viewBox=\"0 0 24 24\"\n",
              "       width=\"24px\">\n",
              "    <path d=\"M0 0h24v24H0V0z\" fill=\"none\"/>\n",
              "    <path d=\"M18.56 5.44l.94 2.06.94-2.06 2.06-.94-2.06-.94-.94-2.06-.94 2.06-2.06.94zm-11 1L8.5 8.5l.94-2.06 2.06-.94-2.06-.94L8.5 2.5l-.94 2.06-2.06.94zm10 10l.94 2.06.94-2.06 2.06-.94-2.06-.94-.94-2.06-.94 2.06-2.06.94z\"/><path d=\"M17.41 7.96l-1.37-1.37c-.4-.4-.92-.59-1.43-.59-.52 0-1.04.2-1.43.59L10.3 9.45l-7.72 7.72c-.78.78-.78 2.05 0 2.83L4 21.41c.39.39.9.59 1.41.59.51 0 1.02-.2 1.41-.59l7.78-7.78 2.81-2.81c.8-.78.8-2.07 0-2.86zM5.41 20L4 18.59l7.72-7.72 1.47 1.35L5.41 20z\"/>\n",
              "  </svg>\n",
              "      </button>\n",
              "      \n",
              "  <style>\n",
              "    .colab-df-container {\n",
              "      display:flex;\n",
              "      flex-wrap:wrap;\n",
              "      gap: 12px;\n",
              "    }\n",
              "\n",
              "    .colab-df-convert {\n",
              "      background-color: #E8F0FE;\n",
              "      border: none;\n",
              "      border-radius: 50%;\n",
              "      cursor: pointer;\n",
              "      display: none;\n",
              "      fill: #1967D2;\n",
              "      height: 32px;\n",
              "      padding: 0 0 0 0;\n",
              "      width: 32px;\n",
              "    }\n",
              "\n",
              "    .colab-df-convert:hover {\n",
              "      background-color: #E2EBFA;\n",
              "      box-shadow: 0px 1px 2px rgba(60, 64, 67, 0.3), 0px 1px 3px 1px rgba(60, 64, 67, 0.15);\n",
              "      fill: #174EA6;\n",
              "    }\n",
              "\n",
              "    [theme=dark] .colab-df-convert {\n",
              "      background-color: #3B4455;\n",
              "      fill: #D2E3FC;\n",
              "    }\n",
              "\n",
              "    [theme=dark] .colab-df-convert:hover {\n",
              "      background-color: #434B5C;\n",
              "      box-shadow: 0px 1px 3px 1px rgba(0, 0, 0, 0.15);\n",
              "      filter: drop-shadow(0px 1px 2px rgba(0, 0, 0, 0.3));\n",
              "      fill: #FFFFFF;\n",
              "    }\n",
              "  </style>\n",
              "\n",
              "      <script>\n",
              "        const buttonEl =\n",
              "          document.querySelector('#df-7ccfd12d-df7d-413b-8be1-8f7a6304f70c button.colab-df-convert');\n",
              "        buttonEl.style.display =\n",
              "          google.colab.kernel.accessAllowed ? 'block' : 'none';\n",
              "\n",
              "        async function convertToInteractive(key) {\n",
              "          const element = document.querySelector('#df-7ccfd12d-df7d-413b-8be1-8f7a6304f70c');\n",
              "          const dataTable =\n",
              "            await google.colab.kernel.invokeFunction('convertToInteractive',\n",
              "                                                     [key], {});\n",
              "          if (!dataTable) return;\n",
              "\n",
              "          const docLinkHtml = 'Like what you see? Visit the ' +\n",
              "            '<a target=\"_blank\" href=https://colab.research.google.com/notebooks/data_table.ipynb>data table notebook</a>'\n",
              "            + ' to learn more about interactive tables.';\n",
              "          element.innerHTML = '';\n",
              "          dataTable['output_type'] = 'display_data';\n",
              "          await google.colab.output.renderOutput(dataTable, element);\n",
              "          const docLink = document.createElement('div');\n",
              "          docLink.innerHTML = docLinkHtml;\n",
              "          element.appendChild(docLink);\n",
              "        }\n",
              "      </script>\n",
              "    </div>\n",
              "  </div>\n",
              "  "
            ]
          },
          "metadata": {},
          "execution_count": 168
        }
      ],
      "source": [
        "dados.describe()"
      ]
    },
    {
      "cell_type": "markdown",
      "id": "3d4e37b7",
      "metadata": {
        "id": "3d4e37b7"
      },
      "source": [
        "# Contando ocorrências de dados categóricos"
      ]
    },
    {
      "cell_type": "code",
      "execution_count": null,
      "id": "a6b1db73",
      "metadata": {
        "colab": {
          "base_uri": "https://localhost:8080/"
        },
        "id": "a6b1db73",
        "outputId": "a4cf969d-f0c7-4ff3-a1d9-d282d8cba485"
      },
      "outputs": [
        {
          "output_type": "execute_result",
          "data": {
            "text/plain": [
              "setosa        50\n",
              "versicolor    50\n",
              "virginica     50\n",
              "Name: flower_name, dtype: int64"
            ]
          },
          "metadata": {},
          "execution_count": 169
        }
      ],
      "source": [
        "dados.flower_name.value_counts()"
      ]
    },
    {
      "cell_type": "code",
      "execution_count": null,
      "id": "1e6b3456",
      "metadata": {
        "colab": {
          "base_uri": "https://localhost:8080/"
        },
        "id": "1e6b3456",
        "outputId": "091a1f4b-27d0-49c7-c0b5-efe9b1a6bc44"
      },
      "outputs": [
        {
          "output_type": "execute_result",
          "data": {
            "text/plain": [
              "50"
            ]
          },
          "metadata": {},
          "execution_count": 170
        }
      ],
      "source": [
        "dados.flower_name.value_counts()['versicolor']"
      ]
    },
    {
      "cell_type": "code",
      "execution_count": null,
      "id": "a05692f6",
      "metadata": {
        "colab": {
          "base_uri": "https://localhost:8080/"
        },
        "id": "a05692f6",
        "outputId": "681eaa36-5f37-40f7-cb3c-c785a68f0531"
      },
      "outputs": [
        {
          "output_type": "execute_result",
          "data": {
            "text/plain": [
              "50"
            ]
          },
          "metadata": {},
          "execution_count": 171
        }
      ],
      "source": [
        "dados.flower_name.value_counts()['virginica']"
      ]
    },
    {
      "cell_type": "markdown",
      "id": "7a4a91a4",
      "metadata": {
        "id": "7a4a91a4"
      },
      "source": [
        "# Gráficos\n",
        "\n",
        "O métodos **.hist()** do pandas nos gera os histogramas de todas as colunas com dados numéricos.\n",
        "\n",
        "Você pode olhar aqui https://pandas.pydata.org/pandas-docs/dev/reference/api/pandas.DataFrame.hist.html para saber como passar parâmetros neste método de forma a controlar o design do gráfico."
      ]
    },
    {
      "cell_type": "code",
      "execution_count": null,
      "id": "c0c4d1e9",
      "metadata": {
        "colab": {
          "base_uri": "https://localhost:8080/",
          "height": 368
        },
        "id": "c0c4d1e9",
        "outputId": "aabbbeef-5fe1-4d8e-8eab-6ebc10827735"
      },
      "outputs": [
        {
          "output_type": "execute_result",
          "data": {
            "text/plain": [
              "array([[<matplotlib.axes._subplots.AxesSubplot object at 0x7f8fed617750>,\n",
              "        <matplotlib.axes._subplots.AxesSubplot object at 0x7f8febd6a750>],\n",
              "       [<matplotlib.axes._subplots.AxesSubplot object at 0x7f8febd90c10>,\n",
              "        <matplotlib.axes._subplots.AxesSubplot object at 0x7f8febd53150>]],\n",
              "      dtype=object)"
            ]
          },
          "metadata": {},
          "execution_count": 172
        },
        {
          "output_type": "display_data",
          "data": {
            "text/plain": [
              "<Figure size 432x288 with 4 Axes>"
            ],
            "image/png": "[encoded data removed]"
          },
          "metadata": {
            "needs_background": "light"
          }
        }
      ],
      "source": [
        "dados.hist()"
      ]
    },
    {
      "cell_type": "markdown",
      "id": "20e2998a",
      "metadata": {
        "id": "20e2998a"
      },
      "source": [
        "Já o método **.boxplot()** gera diagramas de caixa dos dados numéricos:"
      ]
    },
    {
      "cell_type": "code",
      "execution_count": null,
      "id": "c01f2643",
      "metadata": {
        "colab": {
          "base_uri": "https://localhost:8080/",
          "height": 282
        },
        "id": "c01f2643",
        "outputId": "c82c9ecc-6bce-4a94-c8c9-db1202838c68"
      },
      "outputs": [
        {
          "output_type": "execute_result",
          "data": {
            "text/plain": [
              "<matplotlib.axes._subplots.AxesSubplot at 0x7f8febbe92d0>"
            ]
          },
          "metadata": {},
          "execution_count": 173
        },
        {
          "output_type": "display_data",
          "data": {
            "text/plain": [
              "<Figure size 432x288 with 1 Axes>"
            ],
            "image/png": "[encoded data removed]"
          },
          "metadata": {
            "needs_background": "light"
          }
        }
      ],
      "source": [
        "dados.boxplot()"
      ]
    },
    {
      "cell_type": "markdown",
      "id": "357eb0cc",
      "metadata": {
        "id": "357eb0cc"
      },
      "source": [
        "O método **.plot.scatter()** gera gráficos de dispersão. Como os gráficos de dispersão são 2D, isto é, tem dois eixos, um x e outro y, precisamos especificar qual coluna do nosso dataframe será o x e qual coluna será o y.\n",
        "\n",
        "Vejamos o exemplo:"
      ]
    },
    {
      "cell_type": "code",
      "execution_count": null,
      "id": "99526768",
      "metadata": {
        "colab": {
          "base_uri": "https://localhost:8080/",
          "height": 299
        },
        "id": "99526768",
        "outputId": "1e098340-ef4a-4677-9c76-b4908cc7dbf9"
      },
      "outputs": [
        {
          "output_type": "execute_result",
          "data": {
            "text/plain": [
              "<matplotlib.axes._subplots.AxesSubplot at 0x7f8ff13fe610>"
            ]
          },
          "metadata": {},
          "execution_count": 137
        },
        {
          "output_type": "display_data",
          "data": {
            "text/plain": [
              "<Figure size 432x288 with 1 Axes>"
            ],
            "image/png": "[encoded data removed]"
          },
          "metadata": {
            "needs_background": "light"
          }
        }
      ],
      "source": [
        "dados.plot.scatter(x='sepal length (cm)',\n",
        "                   y='sepal width (cm)'\n",
        "                  )"
      ]
    },
    {
      "cell_type": "code",
      "execution_count": null,
      "id": "9a15118c",
      "metadata": {
        "colab": {
          "base_uri": "https://localhost:8080/",
          "height": 296
        },
        "id": "9a15118c",
        "outputId": "e1899461-3a97-49b3-f580-bc8504589b57"
      },
      "outputs": [
        {
          "output_type": "execute_result",
          "data": {
            "text/plain": [
              "<matplotlib.axes._subplots.AxesSubplot at 0x7f8ff32d0c90>"
            ]
          },
          "metadata": {},
          "execution_count": 138
        },
        {
          "output_type": "display_data",
          "data": {
            "text/plain": [
              "<Figure size 432x288 with 1 Axes>"
            ],
            "image/png": "[encoded data removed]"
          },
          "metadata": {
            "needs_background": "light"
          }
        }
      ],
      "source": [
        "# Podemos repetir o procedimento para cada dispersão que queremos ver\n",
        "dados.plot.scatter(x='petal length (cm)', y='petal width (cm)')"
      ]
    },
    {
      "cell_type": "markdown",
      "id": "8363b4a8",
      "metadata": {
        "id": "8363b4a8"
      },
      "source": [
        "Nós também podemos fazer os mesmos gráficos que fizemos utilizando métodos nativos do **pandas** usando métodos do **seaborn**.\n",
        "\n",
        "Vejamos os exemplos:"
      ]
    },
    {
      "cell_type": "code",
      "execution_count": null,
      "id": "34ed12b8",
      "metadata": {
        "id": "34ed12b8"
      },
      "outputs": [],
      "source": [
        "import seaborn as sns"
      ]
    },
    {
      "cell_type": "code",
      "execution_count": null,
      "id": "7fe3e5a3",
      "metadata": {
        "colab": {
          "base_uri": "https://localhost:8080/",
          "height": 282
        },
        "id": "7fe3e5a3",
        "outputId": "49faf73d-f2ba-49c2-dbb3-ae6c25931738"
      },
      "outputs": [
        {
          "output_type": "execute_result",
          "data": {
            "text/plain": [
              "<matplotlib.axes._subplots.AxesSubplot at 0x7f8ff34109d0>"
            ]
          },
          "metadata": {},
          "execution_count": 140
        },
        {
          "output_type": "display_data",
          "data": {
            "text/plain": [
              "<Figure size 432x288 with 1 Axes>"
            ],
            "image/png": "[encoded data removed]"
          },
          "metadata": {
            "needs_background": "light"
          }
        }
      ],
      "source": [
        "# Histogramas\n",
        "sns.histplot(data=dados)"
      ]
    },
    {
      "cell_type": "code",
      "execution_count": null,
      "id": "ce9bec80",
      "metadata": {
        "colab": {
          "base_uri": "https://localhost:8080/",
          "height": 282
        },
        "id": "ce9bec80",
        "outputId": "d2b8ef0d-6e25-4212-f31d-24110592a563"
      },
      "outputs": [
        {
          "output_type": "execute_result",
          "data": {
            "text/plain": [
              "<matplotlib.axes._subplots.AxesSubplot at 0x7f8ff1128e10>"
            ]
          },
          "metadata": {},
          "execution_count": 141
        },
        {
          "output_type": "display_data",
          "data": {
            "text/plain": [
              "<Figure size 432x288 with 1 Axes>"
            ],
            "image/png": "[encoded data removed]"
          },
          "metadata": {
            "needs_background": "light"
          }
        }
      ],
      "source": [
        "# Boxplot\n",
        "sns.boxplot(data=dados)"
      ]
    },
    {
      "cell_type": "markdown",
      "id": "25570eaa",
      "metadata": {
        "id": "25570eaa"
      },
      "source": [
        "O Seaborn tem um método bastante interessante que plota todas as dispersões e todas as distribuições.\n",
        "\n",
        "Perceba que o parâmetro **hue** recebe o nome da coluna de classe. Ele irá pintar cada ponto de acordo com o tipo de flor.\n",
        "\n",
        "Vejamos:"
      ]
    },
    {
      "cell_type": "code",
      "execution_count": null,
      "id": "2eaec9c5",
      "metadata": {
        "colab": {
          "base_uri": "https://localhost:8080/",
          "height": 618
        },
        "id": "2eaec9c5",
        "outputId": "556f27a9-3e67-43b0-aca0-69f65bb9212a"
      },
      "outputs": [
        {
          "output_type": "execute_result",
          "data": {
            "text/plain": [
              "<seaborn.axisgrid.PairGrid at 0x7f8ff1102d90>"
            ]
          },
          "metadata": {},
          "execution_count": 142
        },
        {
          "output_type": "display_data",
          "data": {
            "text/plain": [
              "<Figure size 984.75x900 with 30 Axes>"
            ],
            "image/png": "[encoded data removed]"
          },
          "metadata": {
            "needs_background": "light"
          }
        }
      ],
      "source": [
        "sns.pairplot(dados, hue='flower_name')"
      ]
    },
    {
      "cell_type": "markdown",
      "id": "cd19b365",
      "metadata": {
        "id": "cd19b365"
      },
      "source": [
        "-------------------------\n",
        "\n",
        "# **Exercício - Íris Data set**\n",
        "\n",
        "Nas **estatísticas** e **plots** que realizamos no exemplo 2, os dados foram considerados sobre todos os tipos de flores. Considere agora separar os dados em 3 dataframes diferentes, cada um com um tipo de flor. Refaça as estatísticas e plote novos gráficos para cada um dos dataframes.\n",
        "\n",
        "Você é capaz de propor um método de classificação das flores a partir da análise dos dados?"
      ]
    },
    {
      "cell_type": "code",
      "execution_count": null,
      "id": "2ee32e57",
      "metadata": {
        "id": "2ee32e57"
      },
      "outputs": [],
      "source": [
        "## Colorar código a partir daqui\n",
        "from sklearn import datasets\n",
        "import pandas as pd"
      ]
    },
    {
      "cell_type": "code",
      "source": [
        "# Carregando os dados\n",
        "iris = datasets.load_iris()"
      ],
      "metadata": {
        "id": "LGRQDQ1Nqtn8"
      },
      "id": "LGRQDQ1Nqtn8",
      "execution_count": null,
      "outputs": []
    },
    {
      "cell_type": "code",
      "source": [
        "dados.groupby('flower_name').mean()"
      ],
      "metadata": {
        "id": "jMTL6to8rU93",
        "colab": {
          "base_uri": "https://localhost:8080/",
          "height": 175
        },
        "outputId": "b8ce40dc-97a6-4838-df0d-d014e72e2785"
      },
      "id": "jMTL6to8rU93",
      "execution_count": null,
      "outputs": [
        {
          "output_type": "execute_result",
          "data": {
            "text/plain": [
              "             sepal length (cm)  sepal width (cm)  petal length (cm)  \\\n",
              "flower_name                                                           \n",
              "setosa                   5.006             3.428              1.462   \n",
              "versicolor               5.936             2.770              4.260   \n",
              "virginica                6.588             2.974              5.552   \n",
              "\n",
              "             petal width (cm)  \n",
              "flower_name                    \n",
              "setosa                  0.246  \n",
              "versicolor              1.326  \n",
              "virginica               2.026  "
            ],
            "text/html": [
              "\n",
              "  <div id=\"df-2cd77807-755f-498f-9cfa-901741258741\">\n",
              "    <div class=\"colab-df-container\">\n",
              "      <div>\n",
              "<style scoped>\n",
              "    .dataframe tbody tr th:only-of-type {\n",
              "        vertical-align: middle;\n",
              "    }\n",
              "\n",
              "    .dataframe tbody tr th {\n",
              "        vertical-align: top;\n",
              "    }\n",
              "\n",
              "    .dataframe thead th {\n",
              "        text-align: right;\n",
              "    }\n",
              "</style>\n",
              "<table border=\"1\" class=\"dataframe\">\n",
              "  <thead>\n",
              "    <tr style=\"text-align: right;\">\n",
              "      <th></th>\n",
              "      <th>sepal length (cm)</th>\n",
              "      <th>sepal width (cm)</th>\n",
              "      <th>petal length (cm)</th>\n",
              "      <th>petal width (cm)</th>\n",
              "    </tr>\n",
              "    <tr>\n",
              "      <th>flower_name</th>\n",
              "      <th></th>\n",
              "      <th></th>\n",
              "      <th></th>\n",
              "      <th></th>\n",
              "    </tr>\n",
              "  </thead>\n",
              "  <tbody>\n",
              "    <tr>\n",
              "      <th>setosa</th>\n",
              "      <td>5.006</td>\n",
              "      <td>3.428</td>\n",
              "      <td>1.462</td>\n",
              "      <td>0.246</td>\n",
              "    </tr>\n",
              "    <tr>\n",
              "      <th>versicolor</th>\n",
              "      <td>5.936</td>\n",
              "      <td>2.770</td>\n",
              "      <td>4.260</td>\n",
              "      <td>1.326</td>\n",
              "    </tr>\n",
              "    <tr>\n",
              "      <th>virginica</th>\n",
              "      <td>6.588</td>\n",
              "      <td>2.974</td>\n",
              "      <td>5.552</td>\n",
              "      <td>2.026</td>\n",
              "    </tr>\n",
              "  </tbody>\n",
              "</table>\n",
              "</div>\n",
              "      <button class=\"colab-df-convert\" onclick=\"convertToInteractive('df-2cd77807-755f-498f-9cfa-901741258741')\"\n",
              "              title=\"Convert this dataframe to an interactive table.\"\n",
              "              style=\"display:none;\">\n",
              "        \n",
              "  <svg xmlns=\"http://www.w3.org/2000/svg\" height=\"24px\"viewBox=\"0 0 24 24\"\n",
              "       width=\"24px\">\n",
              "    <path d=\"M0 0h24v24H0V0z\" fill=\"none\"/>\n",
              "    <path d=\"M18.56 5.44l.94 2.06.94-2.06 2.06-.94-2.06-.94-.94-2.06-.94 2.06-2.06.94zm-11 1L8.5 8.5l.94-2.06 2.06-.94-2.06-.94L8.5 2.5l-.94 2.06-2.06.94zm10 10l.94 2.06.94-2.06 2.06-.94-2.06-.94-.94-2.06-.94 2.06-2.06.94z\"/><path d=\"M17.41 7.96l-1.37-1.37c-.4-.4-.92-.59-1.43-.59-.52 0-1.04.2-1.43.59L10.3 9.45l-7.72 7.72c-.78.78-.78 2.05 0 2.83L4 21.41c.39.39.9.59 1.41.59.51 0 1.02-.2 1.41-.59l7.78-7.78 2.81-2.81c.8-.78.8-2.07 0-2.86zM5.41 20L4 18.59l7.72-7.72 1.47 1.35L5.41 20z\"/>\n",
              "  </svg>\n",
              "      </button>\n",
              "      \n",
              "  <style>\n",
              "    .colab-df-container {\n",
              "      display:flex;\n",
              "      flex-wrap:wrap;\n",
              "      gap: 12px;\n",
              "    }\n",
              "\n",
              "    .colab-df-convert {\n",
              "      background-color: #E8F0FE;\n",
              "      border: none;\n",
              "      border-radius: 50%;\n",
              "      cursor: pointer;\n",
              "      display: none;\n",
              "      fill: #1967D2;\n",
              "      height: 32px;\n",
              "      padding: 0 0 0 0;\n",
              "      width: 32px;\n",
              "    }\n",
              "\n",
              "    .colab-df-convert:hover {\n",
              "      background-color: #E2EBFA;\n",
              "      box-shadow: 0px 1px 2px rgba(60, 64, 67, 0.3), 0px 1px 3px 1px rgba(60, 64, 67, 0.15);\n",
              "      fill: #174EA6;\n",
              "    }\n",
              "\n",
              "    [theme=dark] .colab-df-convert {\n",
              "      background-color: #3B4455;\n",
              "      fill: #D2E3FC;\n",
              "    }\n",
              "\n",
              "    [theme=dark] .colab-df-convert:hover {\n",
              "      background-color: #434B5C;\n",
              "      box-shadow: 0px 1px 3px 1px rgba(0, 0, 0, 0.15);\n",
              "      filter: drop-shadow(0px 1px 2px rgba(0, 0, 0, 0.3));\n",
              "      fill: #FFFFFF;\n",
              "    }\n",
              "  </style>\n",
              "\n",
              "      <script>\n",
              "        const buttonEl =\n",
              "          document.querySelector('#df-2cd77807-755f-498f-9cfa-901741258741 button.colab-df-convert');\n",
              "        buttonEl.style.display =\n",
              "          google.colab.kernel.accessAllowed ? 'block' : 'none';\n",
              "\n",
              "        async function convertToInteractive(key) {\n",
              "          const element = document.querySelector('#df-2cd77807-755f-498f-9cfa-901741258741');\n",
              "          const dataTable =\n",
              "            await google.colab.kernel.invokeFunction('convertToInteractive',\n",
              "                                                     [key], {});\n",
              "          if (!dataTable) return;\n",
              "\n",
              "          const docLinkHtml = 'Like what you see? Visit the ' +\n",
              "            '<a target=\"_blank\" href=https://colab.research.google.com/notebooks/data_table.ipynb>data table notebook</a>'\n",
              "            + ' to learn more about interactive tables.';\n",
              "          element.innerHTML = '';\n",
              "          dataTable['output_type'] = 'display_data';\n",
              "          await google.colab.output.renderOutput(dataTable, element);\n",
              "          const docLink = document.createElement('div');\n",
              "          docLink.innerHTML = docLinkHtml;\n",
              "          element.appendChild(docLink);\n",
              "        }\n",
              "      </script>\n",
              "    </div>\n",
              "  </div>\n",
              "  "
            ]
          },
          "metadata": {},
          "execution_count": 182
        }
      ]
    },
    {
      "cell_type": "code",
      "source": [
        "dados.groupby('flower_name').std()"
      ],
      "metadata": {
        "id": "92Lbyfxkqtzz",
        "colab": {
          "base_uri": "https://localhost:8080/",
          "height": 175
        },
        "outputId": "746963b3-6c2e-4c68-9406-01c02d608b2d"
      },
      "id": "92Lbyfxkqtzz",
      "execution_count": null,
      "outputs": [
        {
          "output_type": "execute_result",
          "data": {
            "text/plain": [
              "             sepal length (cm)  sepal width (cm)  petal length (cm)  \\\n",
              "flower_name                                                           \n",
              "setosa                0.352490          0.379064           0.173664   \n",
              "versicolor            0.516171          0.313798           0.469911   \n",
              "virginica             0.635880          0.322497           0.551895   \n",
              "\n",
              "             petal width (cm)  \n",
              "flower_name                    \n",
              "setosa               0.105386  \n",
              "versicolor           0.197753  \n",
              "virginica            0.274650  "
            ],
            "text/html": [
              "\n",
              "  <div id=\"df-2a5bb362-b87b-444b-a434-8920e20ecb4b\">\n",
              "    <div class=\"colab-df-container\">\n",
              "      <div>\n",
              "<style scoped>\n",
              "    .dataframe tbody tr th:only-of-type {\n",
              "        vertical-align: middle;\n",
              "    }\n",
              "\n",
              "    .dataframe tbody tr th {\n",
              "        vertical-align: top;\n",
              "    }\n",
              "\n",
              "    .dataframe thead th {\n",
              "        text-align: right;\n",
              "    }\n",
              "</style>\n",
              "<table border=\"1\" class=\"dataframe\">\n",
              "  <thead>\n",
              "    <tr style=\"text-align: right;\">\n",
              "      <th></th>\n",
              "      <th>sepal length (cm)</th>\n",
              "      <th>sepal width (cm)</th>\n",
              "      <th>petal length (cm)</th>\n",
              "      <th>petal width (cm)</th>\n",
              "    </tr>\n",
              "    <tr>\n",
              "      <th>flower_name</th>\n",
              "      <th></th>\n",
              "      <th></th>\n",
              "      <th></th>\n",
              "      <th></th>\n",
              "    </tr>\n",
              "  </thead>\n",
              "  <tbody>\n",
              "    <tr>\n",
              "      <th>setosa</th>\n",
              "      <td>0.352490</td>\n",
              "      <td>0.379064</td>\n",
              "      <td>0.173664</td>\n",
              "      <td>0.105386</td>\n",
              "    </tr>\n",
              "    <tr>\n",
              "      <th>versicolor</th>\n",
              "      <td>0.516171</td>\n",
              "      <td>0.313798</td>\n",
              "      <td>0.469911</td>\n",
              "      <td>0.197753</td>\n",
              "    </tr>\n",
              "    <tr>\n",
              "      <th>virginica</th>\n",
              "      <td>0.635880</td>\n",
              "      <td>0.322497</td>\n",
              "      <td>0.551895</td>\n",
              "      <td>0.274650</td>\n",
              "    </tr>\n",
              "  </tbody>\n",
              "</table>\n",
              "</div>\n",
              "      <button class=\"colab-df-convert\" onclick=\"convertToInteractive('df-2a5bb362-b87b-444b-a434-8920e20ecb4b')\"\n",
              "              title=\"Convert this dataframe to an interactive table.\"\n",
              "              style=\"display:none;\">\n",
              "        \n",
              "  <svg xmlns=\"http://www.w3.org/2000/svg\" height=\"24px\"viewBox=\"0 0 24 24\"\n",
              "       width=\"24px\">\n",
              "    <path d=\"M0 0h24v24H0V0z\" fill=\"none\"/>\n",
              "    <path d=\"M18.56 5.44l.94 2.06.94-2.06 2.06-.94-2.06-.94-.94-2.06-.94 2.06-2.06.94zm-11 1L8.5 8.5l.94-2.06 2.06-.94-2.06-.94L8.5 2.5l-.94 2.06-2.06.94zm10 10l.94 2.06.94-2.06 2.06-.94-2.06-.94-.94-2.06-.94 2.06-2.06.94z\"/><path d=\"M17.41 7.96l-1.37-1.37c-.4-.4-.92-.59-1.43-.59-.52 0-1.04.2-1.43.59L10.3 9.45l-7.72 7.72c-.78.78-.78 2.05 0 2.83L4 21.41c.39.39.9.59 1.41.59.51 0 1.02-.2 1.41-.59l7.78-7.78 2.81-2.81c.8-.78.8-2.07 0-2.86zM5.41 20L4 18.59l7.72-7.72 1.47 1.35L5.41 20z\"/>\n",
              "  </svg>\n",
              "      </button>\n",
              "      \n",
              "  <style>\n",
              "    .colab-df-container {\n",
              "      display:flex;\n",
              "      flex-wrap:wrap;\n",
              "      gap: 12px;\n",
              "    }\n",
              "\n",
              "    .colab-df-convert {\n",
              "      background-color: #E8F0FE;\n",
              "      border: none;\n",
              "      border-radius: 50%;\n",
              "      cursor: pointer;\n",
              "      display: none;\n",
              "      fill: #1967D2;\n",
              "      height: 32px;\n",
              "      padding: 0 0 0 0;\n",
              "      width: 32px;\n",
              "    }\n",
              "\n",
              "    .colab-df-convert:hover {\n",
              "      background-color: #E2EBFA;\n",
              "      box-shadow: 0px 1px 2px rgba(60, 64, 67, 0.3), 0px 1px 3px 1px rgba(60, 64, 67, 0.15);\n",
              "      fill: #174EA6;\n",
              "    }\n",
              "\n",
              "    [theme=dark] .colab-df-convert {\n",
              "      background-color: #3B4455;\n",
              "      fill: #D2E3FC;\n",
              "    }\n",
              "\n",
              "    [theme=dark] .colab-df-convert:hover {\n",
              "      background-color: #434B5C;\n",
              "      box-shadow: 0px 1px 3px 1px rgba(0, 0, 0, 0.15);\n",
              "      filter: drop-shadow(0px 1px 2px rgba(0, 0, 0, 0.3));\n",
              "      fill: #FFFFFF;\n",
              "    }\n",
              "  </style>\n",
              "\n",
              "      <script>\n",
              "        const buttonEl =\n",
              "          document.querySelector('#df-2a5bb362-b87b-444b-a434-8920e20ecb4b button.colab-df-convert');\n",
              "        buttonEl.style.display =\n",
              "          google.colab.kernel.accessAllowed ? 'block' : 'none';\n",
              "\n",
              "        async function convertToInteractive(key) {\n",
              "          const element = document.querySelector('#df-2a5bb362-b87b-444b-a434-8920e20ecb4b');\n",
              "          const dataTable =\n",
              "            await google.colab.kernel.invokeFunction('convertToInteractive',\n",
              "                                                     [key], {});\n",
              "          if (!dataTable) return;\n",
              "\n",
              "          const docLinkHtml = 'Like what you see? Visit the ' +\n",
              "            '<a target=\"_blank\" href=https://colab.research.google.com/notebooks/data_table.ipynb>data table notebook</a>'\n",
              "            + ' to learn more about interactive tables.';\n",
              "          element.innerHTML = '';\n",
              "          dataTable['output_type'] = 'display_data';\n",
              "          await google.colab.output.renderOutput(dataTable, element);\n",
              "          const docLink = document.createElement('div');\n",
              "          docLink.innerHTML = docLinkHtml;\n",
              "          element.appendChild(docLink);\n",
              "        }\n",
              "      </script>\n",
              "    </div>\n",
              "  </div>\n",
              "  "
            ]
          },
          "metadata": {},
          "execution_count": 183
        }
      ]
    },
    {
      "cell_type": "code",
      "source": [],
      "metadata": {
        "id": "V8DRNLYfrUB4"
      },
      "id": "V8DRNLYfrUB4",
      "execution_count": null,
      "outputs": []
    }
  ],
  "metadata": {
    "kernelspec": {
      "display_name": "Python 3",
      "language": "python",
      "name": "python3"
    },
    "language_info": {
      "codemirror_mode": {
        "name": "ipython",
        "version": 3
      },
      "file_extension": ".py",
      "mimetype": "text/x-python",
      "name": "python",
      "nbconvert_exporter": "python",
      "pygments_lexer": "ipython3",
      "version": "3.9.5"
    },
    "colab": {
      "provenance": [],
      "collapsed_sections": [
        "c4da5cc7",
        "c1abc642"
      ],
      "include_colab_link": true
    }
  },
  "nbformat": 4,
  "nbformat_minor": 5
}